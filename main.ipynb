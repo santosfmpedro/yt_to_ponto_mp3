{
 "cells": [
  {
   "cell_type": "code",
   "execution_count": 4,
   "metadata": {},
   "outputs": [],
   "source": [
    "import os \n",
    "import pandas as pd\n",
    "\n",
    "local_path = os.getcwd()\n",
    "\n",
    "\n",
    "links_playlists_file = f'{local_path}/links_playlists.txt'\n"
   ]
  },
  {
   "cell_type": "code",
   "execution_count": 10,
   "metadata": {},
   "outputs": [],
   "source": [
    "\n",
    "playlists = pd.read_csv(links_playlists_file, header = None)\n",
    "\n",
    "n_playlists = len(playlists) \n"
   ]
  },
  {
   "cell_type": "code",
   "execution_count": 13,
   "metadata": {},
   "outputs": [
    {
     "data": {
      "text/plain": [
       "0    https://www.youtube.com/playlist?list=PL9tr-hC...\n",
       "1    https://www.youtube.com/playlist?list=PL9tr-hC...\n",
       "Name: 0, dtype: object"
      ]
     },
     "execution_count": 13,
     "metadata": {},
     "output_type": "execute_result"
    }
   ],
   "source": [
    "playlists[0]"
   ]
  },
  {
   "cell_type": "code",
   "execution_count": null,
   "metadata": {},
   "outputs": [],
   "source": []
  },
  {
   "cell_type": "code",
   "execution_count": 2,
   "metadata": {},
   "outputs": [],
   "source": [
    "import pandas as pd \n",
    "import os\n",
    "from pytube import YouTube\n",
    "from moviepy.editor import VideoFileClip\n",
    "# Importar o módulo unicodedata para converter caracteres unicode\n",
    "import unicodedata\n",
    "# Importar o módulo re para usar expressões regulares\n",
    "import re\n",
    "from modules import help_functions as hp\n"
   ]
  },
  {
   "cell_type": "code",
   "execution_count": 17,
   "metadata": {},
   "outputs": [],
   "source": [
    "playlist = pd.read_csv('d_and_b_pacaralho.csv')\n",
    "# URL do vídeo do YouTube\n",
    "video_url = f\"https://www.youtube.com/watch?v=kslEIfLlXQc\"\n",
    "\n",
    "# Diretório de saída para salvar o vídeo e o arquivo MP3\n",
    "output_dir = 'output'\n",
    "temp_dir = f'{output_dir}/temp'\n",
    "\n",
    "# Baixar o vídeo\n",
    "yt = YouTube(video_url)\n",
    "video_stream = yt.streams.filter(only_audio=True, file_extension='mp4').order_by('abr').desc().first()"
   ]
  },
  {
   "cell_type": "code",
   "execution_count": 20,
   "metadata": {},
   "outputs": [
    {
     "data": {
      "text/plain": [
       "'https://www.youtube.com/watch?v=4hY30UP90G0&list=PLhZMyKEHgL4qOfoGUexqCsz57F7t_14lM&index=2&pp=iAQB'"
      ]
     },
     "execution_count": 20,
     "metadata": {},
     "output_type": "execute_result"
    }
   ],
   "source": [
    " f\"https://www.youtube.com{playlist['link'][2]}\""
   ]
  },
  {
   "cell_type": "code",
   "execution_count": 18,
   "metadata": {},
   "outputs": [
    {
     "data": {
      "text/plain": [
       "'d:\\\\PEDRO\\\\projects\\\\github\\\\yt_to_ponto_mp3\\\\output/temp\\\\Detail feat Tiiu - Delusion.mp4'"
      ]
     },
     "execution_count": 18,
     "metadata": {},
     "output_type": "execute_result"
    }
   ],
   "source": [
    "\n",
    "video_stream.download(output_path=temp_dir)"
   ]
  },
  {
   "cell_type": "code",
   "execution_count": 2,
   "metadata": {},
   "outputs": [
    {
     "name": "stdout",
     "output_type": "stream",
     "text": [
      "Gran Calavera - Unreachable.mp4\n",
      "output/temp\n",
      "Gran Calavera - Unreachable.mp4\n",
      "MoviePy - Writing audio in output\\Gran_Calavera__Unreachable.mp3\n"
     ]
    },
    {
     "name": "stderr",
     "output_type": "stream",
     "text": [
      "                                                                      \r"
     ]
    },
    {
     "name": "stdout",
     "output_type": "stream",
     "text": [
      "MoviePy - Done.\n",
      "O vídeo foi baixado e convertido em MP3: output\\Gran_Calavera__Unreachable.mp3\n",
      "Gran Calavera - Unreachable.mp4\n",
      "output/temp\n",
      "Gran Calavera - Unreachable.mp4\n",
      "MoviePy - Writing audio in output\\Gran_Calavera__Unreachable.mp3\n"
     ]
    },
    {
     "name": "stderr",
     "output_type": "stream",
     "text": [
      "                                                                      \r"
     ]
    },
    {
     "name": "stdout",
     "output_type": "stream",
     "text": [
      "MoviePy - Done.\n",
      "O vídeo foi baixado e convertido em MP3: output\\Gran_Calavera__Unreachable.mp3\n",
      "Detail feat Tiiu - Delusion.mp4\n",
      "output/temp\n",
      "Detail feat Tiiu - Delusion.mp4\n",
      "MoviePy - Writing audio in output\\Detail_feat_Tiiu__Delusion.mp3\n"
     ]
    },
    {
     "name": "stderr",
     "output_type": "stream",
     "text": [
      "                                                                      \r"
     ]
    },
    {
     "name": "stdout",
     "output_type": "stream",
     "text": [
      "MoviePy - Done.\n",
      "O vídeo foi baixado e convertido em MP3: output\\Detail_feat_Tiiu__Delusion.mp3\n",
      "Detail feat Tiiu - Delusion.mp4\n",
      "output/temp\n",
      "Detail feat Tiiu - Delusion.mp4\n",
      "MoviePy - Writing audio in output\\Detail_feat_Tiiu__Delusion.mp3\n"
     ]
    },
    {
     "name": "stderr",
     "output_type": "stream",
     "text": [
      "                                                                      \r"
     ]
    },
    {
     "name": "stdout",
     "output_type": "stream",
     "text": [
      "MoviePy - Done.\n",
      "O vídeo foi baixado e convertido em MP3: output\\Detail_feat_Tiiu__Delusion.mp3\n",
      "Original Sin - Killer Instinct.mp4\n",
      "output/temp\n",
      "Original Sin - Killer Instinct.mp4\n",
      "MoviePy - Writing audio in output\\Original_Sin__Killer_Instinct.mp3\n"
     ]
    },
    {
     "name": "stderr",
     "output_type": "stream",
     "text": [
      "                                                                      \r"
     ]
    },
    {
     "name": "stdout",
     "output_type": "stream",
     "text": [
      "MoviePy - Done.\n",
      "O vídeo foi baixado e convertido em MP3: output\\Original_Sin__Killer_Instinct.mp3\n",
      "Original Sin - Killer Instinct.mp4\n",
      "output/temp\n",
      "Original Sin - Killer Instinct.mp4\n",
      "MoviePy - Writing audio in output\\Original_Sin__Killer_Instinct.mp3\n"
     ]
    },
    {
     "name": "stderr",
     "output_type": "stream",
     "text": [
      "                                                                      \r"
     ]
    },
    {
     "name": "stdout",
     "output_type": "stream",
     "text": [
      "MoviePy - Done.\n",
      "O vídeo foi baixado e convertido em MP3: output\\Original_Sin__Killer_Instinct.mp3\n",
      "Emperor - SMPL.mp4\n",
      "output/temp\n",
      "Emperor - SMPL.mp4\n",
      "MoviePy - Writing audio in output\\Emperor__SMPL.mp3\n"
     ]
    },
    {
     "name": "stderr",
     "output_type": "stream",
     "text": [
      "                                                                      \r"
     ]
    },
    {
     "name": "stdout",
     "output_type": "stream",
     "text": [
      "MoviePy - Done.\n",
      "O vídeo foi baixado e convertido em MP3: output\\Emperor__SMPL.mp3\n",
      "Emperor - SMPL.mp4\n",
      "output/temp\n",
      "Emperor - SMPL.mp4\n",
      "MoviePy - Writing audio in output\\Emperor__SMPL.mp3\n"
     ]
    },
    {
     "name": "stderr",
     "output_type": "stream",
     "text": [
      "                                                                      \r"
     ]
    },
    {
     "name": "stdout",
     "output_type": "stream",
     "text": [
      "MoviePy - Done.\n",
      "O vídeo foi baixado e convertido em MP3: output\\Emperor__SMPL.mp3\n",
      "Chorux - Dont Even Know.mp4\n",
      "output/temp\n",
      "Chorux - Dont Even Know.mp4\n",
      "MoviePy - Writing audio in output\\Chorux__Dont_Even_Know.mp3\n"
     ]
    },
    {
     "name": "stderr",
     "output_type": "stream",
     "text": [
      "                                                                      \r"
     ]
    },
    {
     "name": "stdout",
     "output_type": "stream",
     "text": [
      "MoviePy - Done.\n",
      "O vídeo foi baixado e convertido em MP3: output\\Chorux__Dont_Even_Know.mp3\n",
      "Chorux - Dont Even Know.mp4\n",
      "output/temp\n",
      "Chorux - Dont Even Know.mp4\n",
      "MoviePy - Writing audio in output\\Chorux__Dont_Even_Know.mp3\n"
     ]
    },
    {
     "name": "stderr",
     "output_type": "stream",
     "text": [
      "                                                                      \r"
     ]
    },
    {
     "name": "stdout",
     "output_type": "stream",
     "text": [
      "MoviePy - Done.\n",
      "O vídeo foi baixado e convertido em MP3: output\\Chorux__Dont_Even_Know.mp3\n",
      "Bungle - Arcadia.mp4\n",
      "output/temp\n",
      "Bungle - Arcadia.mp4\n",
      "MoviePy - Writing audio in output\\Bungle__Arcadia.mp3\n"
     ]
    },
    {
     "name": "stderr",
     "output_type": "stream",
     "text": [
      "                                                                      \r"
     ]
    },
    {
     "name": "stdout",
     "output_type": "stream",
     "text": [
      "MoviePy - Done.\n",
      "O vídeo foi baixado e convertido em MP3: output\\Bungle__Arcadia.mp3\n",
      "Bungle - Arcadia.mp4\n",
      "output/temp\n",
      "Bungle - Arcadia.mp4\n",
      "MoviePy - Writing audio in output\\Bungle__Arcadia.mp3\n"
     ]
    },
    {
     "name": "stderr",
     "output_type": "stream",
     "text": [
      "                                                                      \r"
     ]
    },
    {
     "name": "stdout",
     "output_type": "stream",
     "text": [
      "MoviePy - Done.\n",
      "O vídeo foi baixado e convertido em MP3: output\\Bungle__Arcadia.mp3\n",
      "Malaky & Velocity - Midnight.mp4\n",
      "output/temp\n",
      "Malaky & Velocity - Midnight.mp4\n",
      "MoviePy - Writing audio in output\\Malaky__Velocity__Midnight.mp3\n"
     ]
    },
    {
     "name": "stderr",
     "output_type": "stream",
     "text": [
      "                                                                      \r"
     ]
    },
    {
     "name": "stdout",
     "output_type": "stream",
     "text": [
      "MoviePy - Done.\n",
      "O vídeo foi baixado e convertido em MP3: output\\Malaky__Velocity__Midnight.mp3\n",
      "Malaky & Velocity - Midnight.mp4\n",
      "output/temp\n",
      "Malaky & Velocity - Midnight.mp4\n",
      "MoviePy - Writing audio in output\\Malaky__Velocity__Midnight.mp3\n"
     ]
    },
    {
     "name": "stderr",
     "output_type": "stream",
     "text": [
      "                                                                      \r"
     ]
    },
    {
     "name": "stdout",
     "output_type": "stream",
     "text": [
      "MoviePy - Done.\n",
      "O vídeo foi baixado e convertido em MP3: output\\Malaky__Velocity__Midnight.mp3\n",
      "Mok - Rufio (Klax & Holotype Remix).mp4\n",
      "output/temp\n",
      "Mok - Rufio (Klax & Holotype Remix).mp4\n",
      "MoviePy - Writing audio in output\\Mok__Rufio_Klax__Holotype_Remix.mp3\n"
     ]
    },
    {
     "name": "stderr",
     "output_type": "stream",
     "text": [
      "                                                                      \r"
     ]
    },
    {
     "name": "stdout",
     "output_type": "stream",
     "text": [
      "MoviePy - Done.\n",
      "O vídeo foi baixado e convertido em MP3: output\\Mok__Rufio_Klax__Holotype_Remix.mp3\n",
      "Mok - Rufio (Klax & Holotype Remix).mp4\n",
      "output/temp\n",
      "Mok - Rufio (Klax & Holotype Remix).mp4\n",
      "MoviePy - Writing audio in output\\Mok__Rufio_Klax__Holotype_Remix.mp3\n"
     ]
    },
    {
     "name": "stderr",
     "output_type": "stream",
     "text": [
      "                                                                      \r"
     ]
    },
    {
     "name": "stdout",
     "output_type": "stream",
     "text": [
      "MoviePy - Done.\n",
      "O vídeo foi baixado e convertido em MP3: output\\Mok__Rufio_Klax__Holotype_Remix.mp3\n",
      "Evol Intent - Middle of the Night (Teknian & ZeroZero Remix).mp4\n",
      "output/temp\n",
      "Evol Intent - Middle of the Night (Teknian & ZeroZero Remix).mp4\n",
      "MoviePy - Writing audio in output\\Evol_Intent__Middle_of_the_Night_Teknian__ZeroZero_Remix.mp3\n"
     ]
    },
    {
     "name": "stderr",
     "output_type": "stream",
     "text": [
      "                                                                      \r"
     ]
    },
    {
     "name": "stdout",
     "output_type": "stream",
     "text": [
      "MoviePy - Done.\n",
      "O vídeo foi baixado e convertido em MP3: output\\Evol_Intent__Middle_of_the_Night_Teknian__ZeroZero_Remix.mp3\n",
      "Evol Intent - Middle of the Night (Teknian & ZeroZero Remix).mp4\n",
      "output/temp\n",
      "Evol Intent - Middle of the Night (Teknian & ZeroZero Remix).mp4\n",
      "MoviePy - Writing audio in output\\Evol_Intent__Middle_of_the_Night_Teknian__ZeroZero_Remix.mp3\n"
     ]
    },
    {
     "name": "stderr",
     "output_type": "stream",
     "text": [
      "                                                                      \r"
     ]
    },
    {
     "name": "stdout",
     "output_type": "stream",
     "text": [
      "MoviePy - Done.\n",
      "O vídeo foi baixado e convertido em MP3: output\\Evol_Intent__Middle_of_the_Night_Teknian__ZeroZero_Remix.mp3\n",
      "Metrik - Make The Floor Burn (VIP).mp4\n",
      "output/temp\n",
      "Metrik - Make The Floor Burn (VIP).mp4\n",
      "MoviePy - Writing audio in output\\Metrik__Make_The_Floor_Burn_VIP.mp3\n"
     ]
    },
    {
     "name": "stderr",
     "output_type": "stream",
     "text": [
      "                                                                      \r"
     ]
    },
    {
     "name": "stdout",
     "output_type": "stream",
     "text": [
      "MoviePy - Done.\n",
      "O vídeo foi baixado e convertido em MP3: output\\Metrik__Make_The_Floor_Burn_VIP.mp3\n",
      "Metrik - Make The Floor Burn (VIP).mp4\n",
      "output/temp\n",
      "Metrik - Make The Floor Burn (VIP).mp4\n",
      "MoviePy - Writing audio in output\\Metrik__Make_The_Floor_Burn_VIP.mp3\n"
     ]
    },
    {
     "name": "stderr",
     "output_type": "stream",
     "text": [
      "                                                                      \r"
     ]
    },
    {
     "name": "stdout",
     "output_type": "stream",
     "text": [
      "MoviePy - Done.\n",
      "O vídeo foi baixado e convertido em MP3: output\\Metrik__Make_The_Floor_Burn_VIP.mp3\n",
      "Set_Dj_Win_02.mp4\n",
      "output/temp\n",
      "Set_Dj_Win_02.mp4\n",
      "MoviePy - Writing audio in output\\Set_Dj_Win_02.mp3\n"
     ]
    },
    {
     "name": "stderr",
     "output_type": "stream",
     "text": [
      "                                                                      \r"
     ]
    },
    {
     "name": "stdout",
     "output_type": "stream",
     "text": [
      "MoviePy - Done.\n",
      "O vídeo foi baixado e convertido em MP3: output\\Set_Dj_Win_02.mp3\n",
      "Techture - Echo.mp4\n",
      "output/temp\n",
      "Techture - Echo.mp4\n",
      "MoviePy - Writing audio in output\\Techture__Echo.mp3\n"
     ]
    },
    {
     "name": "stderr",
     "output_type": "stream",
     "text": [
      "                                                                      \r"
     ]
    },
    {
     "name": "stdout",
     "output_type": "stream",
     "text": [
      "MoviePy - Done.\n",
      "O vídeo foi baixado e convertido em MP3: output\\Techture__Echo.mp3\n",
      "Survey - Paperhands.mp4\n",
      "output/temp\n",
      "Survey - Paperhands.mp4\n",
      "MoviePy - Writing audio in output\\Survey__Paperhands.mp3\n"
     ]
    },
    {
     "name": "stderr",
     "output_type": "stream",
     "text": [
      "                                                                      \r"
     ]
    },
    {
     "name": "stdout",
     "output_type": "stream",
     "text": [
      "MoviePy - Done.\n",
      "O vídeo foi baixado e convertido em MP3: output\\Survey__Paperhands.mp3\n",
      "Survey - Paperhands.mp4\n",
      "output/temp\n",
      "Survey - Paperhands.mp4\n",
      "MoviePy - Writing audio in output\\Survey__Paperhands.mp3\n"
     ]
    },
    {
     "name": "stderr",
     "output_type": "stream",
     "text": [
      "                                                                      \r"
     ]
    },
    {
     "name": "stdout",
     "output_type": "stream",
     "text": [
      "MoviePy - Done.\n",
      "O vídeo foi baixado e convertido em MP3: output\\Survey__Paperhands.mp3\n",
      "Dropframe - Maze (Ekko & Sidetrack Remix).mp4\n",
      "output/temp\n",
      "Dropframe - Maze (Ekko & Sidetrack Remix).mp4\n",
      "MoviePy - Writing audio in output\\Dropframe__Maze_Ekko__Sidetrack_Remix.mp3\n"
     ]
    },
    {
     "name": "stderr",
     "output_type": "stream",
     "text": [
      "                                                                      \r"
     ]
    },
    {
     "name": "stdout",
     "output_type": "stream",
     "text": [
      "MoviePy - Done.\n",
      "O vídeo foi baixado e convertido em MP3: output\\Dropframe__Maze_Ekko__Sidetrack_Remix.mp3\n",
      "Dropframe - Maze (Ekko & Sidetrack Remix).mp4\n",
      "output/temp\n",
      "Dropframe - Maze (Ekko & Sidetrack Remix).mp4\n",
      "MoviePy - Writing audio in output\\Dropframe__Maze_Ekko__Sidetrack_Remix.mp3\n"
     ]
    },
    {
     "name": "stderr",
     "output_type": "stream",
     "text": [
      "                                                                      \r"
     ]
    },
    {
     "name": "stdout",
     "output_type": "stream",
     "text": [
      "MoviePy - Done.\n",
      "O vídeo foi baixado e convertido em MP3: output\\Dropframe__Maze_Ekko__Sidetrack_Remix.mp3\n",
      "Need For Mirrors - Verve.mp4\n",
      "output/temp\n",
      "Need For Mirrors - Verve.mp4\n",
      "MoviePy - Writing audio in output\\Need_For_Mirrors__Verve.mp3\n"
     ]
    },
    {
     "name": "stderr",
     "output_type": "stream",
     "text": [
      "                                                                      \r"
     ]
    },
    {
     "name": "stdout",
     "output_type": "stream",
     "text": [
      "MoviePy - Done.\n",
      "O vídeo foi baixado e convertido em MP3: output\\Need_For_Mirrors__Verve.mp3\n",
      "Need For Mirrors - Verve.mp4\n",
      "output/temp\n",
      "Need For Mirrors - Verve.mp4\n",
      "MoviePy - Writing audio in output\\Need_For_Mirrors__Verve.mp3\n"
     ]
    },
    {
     "name": "stderr",
     "output_type": "stream",
     "text": [
      "                                                                      \r"
     ]
    },
    {
     "name": "stdout",
     "output_type": "stream",
     "text": [
      "MoviePy - Done.\n",
      "O vídeo foi baixado e convertido em MP3: output\\Need_For_Mirrors__Verve.mp3\n",
      "Mefjus - Expedition.mp4\n",
      "output/temp\n",
      "Mefjus - Expedition.mp4\n",
      "MoviePy - Writing audio in output\\Mefjus__Expedition.mp3\n"
     ]
    },
    {
     "name": "stderr",
     "output_type": "stream",
     "text": [
      "                                                                      \r"
     ]
    },
    {
     "name": "stdout",
     "output_type": "stream",
     "text": [
      "MoviePy - Done.\n",
      "O vídeo foi baixado e convertido em MP3: output\\Mefjus__Expedition.mp3\n",
      "Mefjus - Expedition.mp4\n",
      "output/temp\n",
      "Mefjus - Expedition.mp4\n",
      "MoviePy - Writing audio in output\\Mefjus__Expedition.mp3\n"
     ]
    },
    {
     "name": "stderr",
     "output_type": "stream",
     "text": [
      "                                                                      \r"
     ]
    },
    {
     "name": "stdout",
     "output_type": "stream",
     "text": [
      "MoviePy - Done.\n",
      "O vídeo foi baixado e convertido em MP3: output\\Mefjus__Expedition.mp3\n",
      "KOAN Sound - Sentient.mp4\n",
      "output/temp\n",
      "KOAN Sound - Sentient.mp4\n",
      "MoviePy - Writing audio in output\\KOAN_Sound__Sentient.mp3\n"
     ]
    },
    {
     "name": "stderr",
     "output_type": "stream",
     "text": [
      "                                                                      \r"
     ]
    },
    {
     "name": "stdout",
     "output_type": "stream",
     "text": [
      "MoviePy - Done.\n",
      "O vídeo foi baixado e convertido em MP3: output\\KOAN_Sound__Sentient.mp3\n",
      "KOAN Sound - Sentient.mp4\n",
      "output/temp\n",
      "KOAN Sound - Sentient.mp4\n",
      "MoviePy - Writing audio in output\\KOAN_Sound__Sentient.mp3\n"
     ]
    },
    {
     "name": "stderr",
     "output_type": "stream",
     "text": [
      "                                                                      \r"
     ]
    },
    {
     "name": "stdout",
     "output_type": "stream",
     "text": [
      "MoviePy - Done.\n",
      "O vídeo foi baixado e convertido em MP3: output\\KOAN_Sound__Sentient.mp3\n",
      "Urbandawn - Neon Nights (MistaJam Premiere & Interview).mp4\n",
      "output/temp\n",
      "Urbandawn - Neon Nights (MistaJam Premiere & Interview).mp4\n",
      "MoviePy - Writing audio in output\\Urbandawn__Neon_Nights_MistaJam_Premiere__Interview.mp3\n"
     ]
    },
    {
     "name": "stderr",
     "output_type": "stream",
     "text": [
      "                                                                        \r"
     ]
    },
    {
     "name": "stdout",
     "output_type": "stream",
     "text": [
      "MoviePy - Done.\n",
      "O vídeo foi baixado e convertido em MP3: output\\Urbandawn__Neon_Nights_MistaJam_Premiere__Interview.mp3\n",
      "Urbandawn - Neon Nights (MistaJam Premiere & Interview).mp4\n",
      "output/temp\n",
      "Urbandawn - Neon Nights (MistaJam Premiere & Interview).mp4\n",
      "MoviePy - Writing audio in output\\Urbandawn__Neon_Nights_MistaJam_Premiere__Interview.mp3\n"
     ]
    },
    {
     "name": "stderr",
     "output_type": "stream",
     "text": [
      "                                                                        \r"
     ]
    },
    {
     "name": "stdout",
     "output_type": "stream",
     "text": [
      "MoviePy - Done.\n",
      "O vídeo foi baixado e convertido em MP3: output\\Urbandawn__Neon_Nights_MistaJam_Premiere__Interview.mp3\n",
      "Give & Take.mp4\n",
      "output/temp\n",
      "Give & Take.mp4\n",
      "MoviePy - Writing audio in output\\Give__Take.mp3\n"
     ]
    },
    {
     "name": "stderr",
     "output_type": "stream",
     "text": [
      "                                                                      \r"
     ]
    },
    {
     "name": "stdout",
     "output_type": "stream",
     "text": [
      "MoviePy - Done.\n",
      "O vídeo foi baixado e convertido em MP3: output\\Give__Take.mp3\n",
      "Give & Take.mp4\n",
      "output/temp\n",
      "Give & Take.mp4\n",
      "MoviePy - Writing audio in output\\Give__Take.mp3\n"
     ]
    },
    {
     "name": "stderr",
     "output_type": "stream",
     "text": [
      "                                                                      \r"
     ]
    },
    {
     "name": "stdout",
     "output_type": "stream",
     "text": [
      "MoviePy - Done.\n",
      "O vídeo foi baixado e convertido em MP3: output\\Give__Take.mp3\n",
      "Lockjaw - Idol.mp4\n",
      "output/temp\n",
      "Lockjaw - Idol.mp4\n",
      "MoviePy - Writing audio in output\\Lockjaw__Idol.mp3\n"
     ]
    },
    {
     "name": "stderr",
     "output_type": "stream",
     "text": [
      "                                                                     \r"
     ]
    },
    {
     "name": "stdout",
     "output_type": "stream",
     "text": [
      "MoviePy - Done.\n",
      "O vídeo foi baixado e convertido em MP3: output\\Lockjaw__Idol.mp3\n",
      "Lockjaw - Idol.mp4\n",
      "output/temp\n",
      "Lockjaw - Idol.mp4\n",
      "MoviePy - Writing audio in output\\Lockjaw__Idol.mp3\n"
     ]
    },
    {
     "name": "stderr",
     "output_type": "stream",
     "text": [
      "                                                                     \r"
     ]
    },
    {
     "name": "stdout",
     "output_type": "stream",
     "text": [
      "MoviePy - Done.\n",
      "O vídeo foi baixado e convertido em MP3: output\\Lockjaw__Idol.mp3\n",
      "Current Value - Gyrocopter.mp4\n",
      "output/temp\n",
      "Current Value - Gyrocopter.mp4\n",
      "MoviePy - Writing audio in output\\Current_Value__Gyrocopter.mp3\n"
     ]
    },
    {
     "name": "stderr",
     "output_type": "stream",
     "text": [
      "                                                                     \r"
     ]
    },
    {
     "name": "stdout",
     "output_type": "stream",
     "text": [
      "MoviePy - Done.\n",
      "O vídeo foi baixado e convertido em MP3: output\\Current_Value__Gyrocopter.mp3\n",
      "Current Value - Gyrocopter.mp4\n",
      "output/temp\n",
      "Current Value - Gyrocopter.mp4\n",
      "MoviePy - Writing audio in output\\Current_Value__Gyrocopter.mp3\n"
     ]
    },
    {
     "name": "stderr",
     "output_type": "stream",
     "text": [
      "                                                                     \r"
     ]
    },
    {
     "name": "stdout",
     "output_type": "stream",
     "text": [
      "MoviePy - Done.\n",
      "O vídeo foi baixado e convertido em MP3: output\\Current_Value__Gyrocopter.mp3\n",
      "Break - Give It Up.mp4\n",
      "output/temp\n",
      "Break - Give It Up.mp4\n",
      "MoviePy - Writing audio in output\\Break__Give_It_Up.mp3\n"
     ]
    },
    {
     "name": "stderr",
     "output_type": "stream",
     "text": [
      "                                                                     \r"
     ]
    },
    {
     "name": "stdout",
     "output_type": "stream",
     "text": [
      "MoviePy - Done.\n",
      "O vídeo foi baixado e convertido em MP3: output\\Break__Give_It_Up.mp3\n",
      "Break - Give It Up.mp4\n",
      "output/temp\n",
      "Break - Give It Up.mp4\n",
      "MoviePy - Writing audio in output\\Break__Give_It_Up.mp3\n"
     ]
    },
    {
     "name": "stderr",
     "output_type": "stream",
     "text": [
      "                                                                     \r"
     ]
    },
    {
     "name": "stdout",
     "output_type": "stream",
     "text": [
      "MoviePy - Done.\n",
      "O vídeo foi baixado e convertido em MP3: output\\Break__Give_It_Up.mp3\n",
      "Total Science Quadrant & Iris - Pushin Your Luck.mp4\n",
      "output/temp\n",
      "Total Science Quadrant & Iris - Pushin Your Luck.mp4\n",
      "MoviePy - Writing audio in output\\Total_Science_Quadrant__Iris__Pushin_Your_Luck.mp3\n"
     ]
    },
    {
     "name": "stderr",
     "output_type": "stream",
     "text": [
      "                                                                     \r"
     ]
    },
    {
     "name": "stdout",
     "output_type": "stream",
     "text": [
      "MoviePy - Done.\n",
      "O vídeo foi baixado e convertido em MP3: output\\Total_Science_Quadrant__Iris__Pushin_Your_Luck.mp3\n",
      "Total Science Quadrant & Iris - Pushin Your Luck.mp4\n",
      "output/temp\n",
      "Total Science Quadrant & Iris - Pushin Your Luck.mp4\n",
      "MoviePy - Writing audio in output\\Total_Science_Quadrant__Iris__Pushin_Your_Luck.mp3\n"
     ]
    },
    {
     "name": "stderr",
     "output_type": "stream",
     "text": [
      "                                                                     \r"
     ]
    },
    {
     "name": "stdout",
     "output_type": "stream",
     "text": [
      "MoviePy - Done.\n",
      "O vídeo foi baixado e convertido em MP3: output\\Total_Science_Quadrant__Iris__Pushin_Your_Luck.mp3\n",
      "Break Need For Mirrors & HLZ - Atlas Shrugged.mp4\n",
      "output/temp\n",
      "Break Need For Mirrors & HLZ - Atlas Shrugged.mp4\n",
      "MoviePy - Writing audio in output\\Break_Need_For_Mirrors__HLZ__Atlas_Shrugged.mp3\n"
     ]
    },
    {
     "name": "stderr",
     "output_type": "stream",
     "text": [
      "                                                                     \r"
     ]
    },
    {
     "name": "stdout",
     "output_type": "stream",
     "text": [
      "MoviePy - Done.\n",
      "O vídeo foi baixado e convertido em MP3: output\\Break_Need_For_Mirrors__HLZ__Atlas_Shrugged.mp3\n",
      "Break Need For Mirrors & HLZ - Atlas Shrugged.mp4\n",
      "output/temp\n",
      "Break Need For Mirrors & HLZ - Atlas Shrugged.mp4\n",
      "MoviePy - Writing audio in output\\Break_Need_For_Mirrors__HLZ__Atlas_Shrugged.mp3\n"
     ]
    },
    {
     "name": "stderr",
     "output_type": "stream",
     "text": [
      "                                                                     \r"
     ]
    },
    {
     "name": "stdout",
     "output_type": "stream",
     "text": [
      "MoviePy - Done.\n",
      "O vídeo foi baixado e convertido em MP3: output\\Break_Need_For_Mirrors__HLZ__Atlas_Shrugged.mp3\n",
      "Break - Temptations.mp4\n",
      "output/temp\n",
      "Break - Temptations.mp4\n",
      "MoviePy - Writing audio in output\\Break__Temptations.mp3\n"
     ]
    },
    {
     "name": "stderr",
     "output_type": "stream",
     "text": [
      "                                                                     \r"
     ]
    },
    {
     "name": "stdout",
     "output_type": "stream",
     "text": [
      "MoviePy - Done.\n",
      "O vídeo foi baixado e convertido em MP3: output\\Break__Temptations.mp3\n",
      "Break - Temptations.mp4\n",
      "output/temp\n",
      "Break - Temptations.mp4\n",
      "MoviePy - Writing audio in output\\Break__Temptations.mp3\n"
     ]
    },
    {
     "name": "stderr",
     "output_type": "stream",
     "text": [
      "                                                                     \r"
     ]
    },
    {
     "name": "stdout",
     "output_type": "stream",
     "text": [
      "MoviePy - Done.\n",
      "O vídeo foi baixado e convertido em MP3: output\\Break__Temptations.mp3\n",
      "Break - Dulcid Tones.mp4\n",
      "output/temp\n",
      "Break - Dulcid Tones.mp4\n",
      "MoviePy - Writing audio in output\\Break__Dulcid_Tones.mp3\n"
     ]
    },
    {
     "name": "stderr",
     "output_type": "stream",
     "text": [
      "                                                                      \r"
     ]
    },
    {
     "name": "stdout",
     "output_type": "stream",
     "text": [
      "MoviePy - Done.\n",
      "O vídeo foi baixado e convertido em MP3: output\\Break__Dulcid_Tones.mp3\n",
      "Break - Dulcid Tones.mp4\n",
      "output/temp\n",
      "Break - Dulcid Tones.mp4\n",
      "MoviePy - Writing audio in output\\Break__Dulcid_Tones.mp3\n"
     ]
    },
    {
     "name": "stderr",
     "output_type": "stream",
     "text": [
      "                                                                      \r"
     ]
    },
    {
     "name": "stdout",
     "output_type": "stream",
     "text": [
      "MoviePy - Done.\n",
      "O vídeo foi baixado e convertido em MP3: output\\Break__Dulcid_Tones.mp3\n",
      "ASK - Elemental [Lifestyle Music].mp4\n",
      "output/temp\n",
      "ASK - Elemental [Lifestyle Music].mp4\n",
      "MoviePy - Writing audio in output\\ASK__Elemental_Lifestyle_Music.mp3\n"
     ]
    },
    {
     "name": "stderr",
     "output_type": "stream",
     "text": [
      "                                                                      \r"
     ]
    },
    {
     "name": "stdout",
     "output_type": "stream",
     "text": [
      "MoviePy - Done.\n",
      "O vídeo foi baixado e convertido em MP3: output\\ASK__Elemental_Lifestyle_Music.mp3\n",
      "ASK - Elemental [Lifestyle Music].mp4\n",
      "output/temp\n",
      "ASK - Elemental [Lifestyle Music].mp4\n",
      "MoviePy - Writing audio in output\\ASK__Elemental_Lifestyle_Music.mp3\n"
     ]
    },
    {
     "name": "stderr",
     "output_type": "stream",
     "text": [
      "                                                                      \r"
     ]
    },
    {
     "name": "stdout",
     "output_type": "stream",
     "text": [
      "MoviePy - Done.\n",
      "O vídeo foi baixado e convertido em MP3: output\\ASK__Elemental_Lifestyle_Music.mp3\n",
      "Break - Steam Train.mp4\n",
      "output/temp\n",
      "Break - Steam Train.mp4\n",
      "MoviePy - Writing audio in output\\Break__Steam_Train.mp3\n"
     ]
    },
    {
     "name": "stderr",
     "output_type": "stream",
     "text": [
      "                                                                      \r"
     ]
    },
    {
     "name": "stdout",
     "output_type": "stream",
     "text": [
      "MoviePy - Done.\n",
      "O vídeo foi baixado e convertido em MP3: output\\Break__Steam_Train.mp3\n",
      "Break - Steam Train.mp4\n",
      "output/temp\n",
      "Break - Steam Train.mp4\n",
      "MoviePy - Writing audio in output\\Break__Steam_Train.mp3\n"
     ]
    },
    {
     "name": "stderr",
     "output_type": "stream",
     "text": [
      "                                                                      \r"
     ]
    },
    {
     "name": "stdout",
     "output_type": "stream",
     "text": [
      "MoviePy - Done.\n",
      "O vídeo foi baixado e convertido em MP3: output\\Break__Steam_Train.mp3\n",
      "DnB Mix (CalibreNetskyBreak).mp4\n",
      "output/temp\n",
      "DnB Mix (CalibreNetskyBreak).mp4\n",
      "MoviePy - Writing audio in output\\DnB_Mix_CalibreNetskyBreak.mp3\n"
     ]
    },
    {
     "name": "stderr",
     "output_type": "stream",
     "text": [
      "                                                                        \r"
     ]
    },
    {
     "name": "stdout",
     "output_type": "stream",
     "text": [
      "MoviePy - Done.\n",
      "O vídeo foi baixado e convertido em MP3: output\\DnB_Mix_CalibreNetskyBreak.mp3\n",
      "DnB Mix (CalibreNetskyBreak).mp4\n",
      "output/temp\n",
      "DnB Mix (CalibreNetskyBreak).mp4\n",
      "MoviePy - Writing audio in output\\DnB_Mix_CalibreNetskyBreak.mp3\n"
     ]
    },
    {
     "name": "stderr",
     "output_type": "stream",
     "text": [
      "                                                                        \r"
     ]
    },
    {
     "name": "stdout",
     "output_type": "stream",
     "text": [
      "MoviePy - Done.\n",
      "O vídeo foi baixado e convertido em MP3: output\\DnB_Mix_CalibreNetskyBreak.mp3\n",
      "Break - All Around.mp4\n",
      "output/temp\n",
      "Break - All Around.mp4\n",
      "MoviePy - Writing audio in output\\Break__All_Around.mp3\n"
     ]
    },
    {
     "name": "stderr",
     "output_type": "stream",
     "text": [
      "                                                                      \r"
     ]
    },
    {
     "name": "stdout",
     "output_type": "stream",
     "text": [
      "MoviePy - Done.\n",
      "O vídeo foi baixado e convertido em MP3: output\\Break__All_Around.mp3\n",
      "Break - All Around.mp4\n",
      "output/temp\n",
      "Break - All Around.mp4\n",
      "MoviePy - Writing audio in output\\Break__All_Around.mp3\n"
     ]
    },
    {
     "name": "stderr",
     "output_type": "stream",
     "text": [
      "                                                                      \r"
     ]
    },
    {
     "name": "stdout",
     "output_type": "stream",
     "text": [
      "MoviePy - Done.\n",
      "O vídeo foi baixado e convertido em MP3: output\\Break__All_Around.mp3\n",
      "Break - Theyre Wrong (Calibre Alternate Remix).mp4\n",
      "output/temp\n",
      "Break - Theyre Wrong (Calibre Alternate Remix).mp4\n",
      "MoviePy - Writing audio in output\\Break__Theyre_Wrong_Calibre_Alternate_Remix.mp3\n"
     ]
    },
    {
     "name": "stderr",
     "output_type": "stream",
     "text": [
      "                                                                      \r"
     ]
    },
    {
     "name": "stdout",
     "output_type": "stream",
     "text": [
      "MoviePy - Done.\n",
      "O vídeo foi baixado e convertido em MP3: output\\Break__Theyre_Wrong_Calibre_Alternate_Remix.mp3\n",
      "Break - Theyre Wrong (Calibre Alternate Remix).mp4\n",
      "output/temp\n",
      "Break - Theyre Wrong (Calibre Alternate Remix).mp4\n",
      "MoviePy - Writing audio in output\\Break__Theyre_Wrong_Calibre_Alternate_Remix.mp3\n"
     ]
    },
    {
     "name": "stderr",
     "output_type": "stream",
     "text": [
      "                                                                     \r"
     ]
    },
    {
     "name": "stdout",
     "output_type": "stream",
     "text": [
      "MoviePy - Done.\n",
      "O vídeo foi baixado e convertido em MP3: output\\Break__Theyre_Wrong_Calibre_Alternate_Remix.mp3\n",
      "Macca & Loz Contreras - One Touch.mp4\n",
      "output/temp\n",
      "Macca & Loz Contreras - One Touch.mp4\n",
      "MoviePy - Writing audio in output\\Macca__Loz_Contreras__One_Touch.mp3\n"
     ]
    },
    {
     "name": "stderr",
     "output_type": "stream",
     "text": [
      "                                                                      \r"
     ]
    },
    {
     "name": "stdout",
     "output_type": "stream",
     "text": [
      "MoviePy - Done.\n",
      "O vídeo foi baixado e convertido em MP3: output\\Macca__Loz_Contreras__One_Touch.mp3\n",
      "Macca & Loz Contreras - One Touch.mp4\n",
      "output/temp\n",
      "Macca & Loz Contreras - One Touch.mp4\n",
      "MoviePy - Writing audio in output\\Macca__Loz_Contreras__One_Touch.mp3\n"
     ]
    },
    {
     "name": "stderr",
     "output_type": "stream",
     "text": [
      "                                                                     \r"
     ]
    },
    {
     "name": "stdout",
     "output_type": "stream",
     "text": [
      "MoviePy - Done.\n",
      "O vídeo foi baixado e convertido em MP3: output\\Macca__Loz_Contreras__One_Touch.mp3\n",
      "Carter -  Shes Gone.mp4\n",
      "output/temp\n",
      "Carter -  Shes Gone.mp4\n",
      "MoviePy - Writing audio in output\\Carter___Shes_Gone.mp3\n"
     ]
    },
    {
     "name": "stderr",
     "output_type": "stream",
     "text": [
      "                                                                     \r"
     ]
    },
    {
     "name": "stdout",
     "output_type": "stream",
     "text": [
      "MoviePy - Done.\n",
      "O vídeo foi baixado e convertido em MP3: output\\Carter___Shes_Gone.mp3\n",
      "Carter -  Shes Gone.mp4\n",
      "output/temp\n",
      "Carter -  Shes Gone.mp4\n",
      "MoviePy - Writing audio in output\\Carter___Shes_Gone.mp3\n"
     ]
    },
    {
     "name": "stderr",
     "output_type": "stream",
     "text": [
      "                                                                      \r"
     ]
    },
    {
     "name": "stdout",
     "output_type": "stream",
     "text": [
      "MoviePy - Done.\n",
      "O vídeo foi baixado e convertido em MP3: output\\Carter___Shes_Gone.mp3\n",
      "Bank - Magic Hour.mp4\n",
      "output/temp\n",
      "Bank - Magic Hour.mp4\n",
      "MoviePy - Writing audio in output\\Bank__Magic_Hour.mp3\n"
     ]
    },
    {
     "name": "stderr",
     "output_type": "stream",
     "text": [
      "                                                                      \r"
     ]
    },
    {
     "name": "stdout",
     "output_type": "stream",
     "text": [
      "MoviePy - Done.\n",
      "O vídeo foi baixado e convertido em MP3: output\\Bank__Magic_Hour.mp3\n",
      "Bank - Magic Hour.mp4\n",
      "output/temp\n",
      "Bank - Magic Hour.mp4\n",
      "MoviePy - Writing audio in output\\Bank__Magic_Hour.mp3\n"
     ]
    },
    {
     "name": "stderr",
     "output_type": "stream",
     "text": [
      "                                                                      \r"
     ]
    },
    {
     "name": "stdout",
     "output_type": "stream",
     "text": [
      "MoviePy - Done.\n",
      "O vídeo foi baixado e convertido em MP3: output\\Bank__Magic_Hour.mp3\n",
      "DJ Hazard - Time Tripping.mp4\n",
      "output/temp\n",
      "DJ Hazard - Time Tripping.mp4\n",
      "MoviePy - Writing audio in output\\DJ_Hazard__Time_Tripping.mp3\n"
     ]
    },
    {
     "name": "stderr",
     "output_type": "stream",
     "text": [
      "                                                                     \r"
     ]
    },
    {
     "name": "stdout",
     "output_type": "stream",
     "text": [
      "MoviePy - Done.\n",
      "O vídeo foi baixado e convertido em MP3: output\\DJ_Hazard__Time_Tripping.mp3\n",
      "DJ Hazard - Time Tripping.mp4\n",
      "output/temp\n",
      "DJ Hazard - Time Tripping.mp4\n",
      "MoviePy - Writing audio in output\\DJ_Hazard__Time_Tripping.mp3\n"
     ]
    },
    {
     "name": "stderr",
     "output_type": "stream",
     "text": [
      "                                                                      \r"
     ]
    },
    {
     "name": "stdout",
     "output_type": "stream",
     "text": [
      "MoviePy - Done.\n",
      "O vídeo foi baixado e convertido em MP3: output\\DJ_Hazard__Time_Tripping.mp3\n",
      "Break - Dont Look Down (ftCalyx & Teebee).mp4\n",
      "output/temp\n",
      "Break - Dont Look Down (ftCalyx & Teebee).mp4\n",
      "MoviePy - Writing audio in output\\Break__Dont_Look_Down_ftCalyx__Teebee.mp3\n"
     ]
    },
    {
     "name": "stderr",
     "output_type": "stream",
     "text": [
      "                                                                      \r"
     ]
    },
    {
     "name": "stdout",
     "output_type": "stream",
     "text": [
      "MoviePy - Done.\n",
      "O vídeo foi baixado e convertido em MP3: output\\Break__Dont_Look_Down_ftCalyx__Teebee.mp3\n",
      "Break - Dont Look Down (ftCalyx & Teebee).mp4\n",
      "output/temp\n",
      "Break - Dont Look Down (ftCalyx & Teebee).mp4\n",
      "MoviePy - Writing audio in output\\Break__Dont_Look_Down_ftCalyx__Teebee.mp3\n"
     ]
    },
    {
     "name": "stderr",
     "output_type": "stream",
     "text": [
      "                                                                      \r"
     ]
    },
    {
     "name": "stdout",
     "output_type": "stream",
     "text": [
      "MoviePy - Done.\n",
      "O vídeo foi baixado e convertido em MP3: output\\Break__Dont_Look_Down_ftCalyx__Teebee.mp3\n",
      "Break - Right Now.mp4\n",
      "output/temp\n",
      "Break - Right Now.mp4\n",
      "MoviePy - Writing audio in output\\Break__Right_Now.mp3\n"
     ]
    },
    {
     "name": "stderr",
     "output_type": "stream",
     "text": [
      "                                                                      \r"
     ]
    },
    {
     "name": "stdout",
     "output_type": "stream",
     "text": [
      "MoviePy - Done.\n",
      "O vídeo foi baixado e convertido em MP3: output\\Break__Right_Now.mp3\n",
      "Break - Right Now.mp4\n",
      "output/temp\n",
      "Break - Right Now.mp4\n",
      "MoviePy - Writing audio in output\\Break__Right_Now.mp3\n"
     ]
    },
    {
     "name": "stderr",
     "output_type": "stream",
     "text": [
      "                                                                      \r"
     ]
    },
    {
     "name": "stdout",
     "output_type": "stream",
     "text": [
      "MoviePy - Done.\n",
      "O vídeo foi baixado e convertido em MP3: output\\Break__Right_Now.mp3\n",
      "Break Mako Fields & Villem - Shadowlines.mp4\n",
      "output/temp\n",
      "Break Mako Fields & Villem - Shadowlines.mp4\n",
      "MoviePy - Writing audio in output\\Break_Mako_Fields__Villem__Shadowlines.mp3\n"
     ]
    },
    {
     "name": "stderr",
     "output_type": "stream",
     "text": [
      "                                                                      \r"
     ]
    },
    {
     "name": "stdout",
     "output_type": "stream",
     "text": [
      "MoviePy - Done.\n",
      "O vídeo foi baixado e convertido em MP3: output\\Break_Mako_Fields__Villem__Shadowlines.mp3\n",
      "Break Mako Fields & Villem - Shadowlines.mp4\n",
      "output/temp\n",
      "Break Mako Fields & Villem - Shadowlines.mp4\n",
      "MoviePy - Writing audio in output\\Break_Mako_Fields__Villem__Shadowlines.mp3\n"
     ]
    },
    {
     "name": "stderr",
     "output_type": "stream",
     "text": [
      "                                                                      \r"
     ]
    },
    {
     "name": "stdout",
     "output_type": "stream",
     "text": [
      "MoviePy - Done.\n",
      "O vídeo foi baixado e convertido em MP3: output\\Break_Mako_Fields__Villem__Shadowlines.mp3\n",
      "Break - In The Moment.mp4\n",
      "output/temp\n",
      "Break - In The Moment.mp4\n",
      "MoviePy - Writing audio in output\\Break__In_The_Moment.mp3\n"
     ]
    },
    {
     "name": "stderr",
     "output_type": "stream",
     "text": [
      "                                                                      \r"
     ]
    },
    {
     "name": "stdout",
     "output_type": "stream",
     "text": [
      "MoviePy - Done.\n",
      "O vídeo foi baixado e convertido em MP3: output\\Break__In_The_Moment.mp3\n",
      "Break - In The Moment.mp4\n",
      "output/temp\n",
      "Break - In The Moment.mp4\n",
      "MoviePy - Writing audio in output\\Break__In_The_Moment.mp3\n"
     ]
    },
    {
     "name": "stderr",
     "output_type": "stream",
     "text": [
      "                                                                     \r"
     ]
    },
    {
     "name": "stdout",
     "output_type": "stream",
     "text": [
      "MoviePy - Done.\n",
      "O vídeo foi baixado e convertido em MP3: output\\Break__In_The_Moment.mp3\n",
      "Break - Duck For Cover.mp4\n",
      "output/temp\n",
      "Break - Duck For Cover.mp4\n",
      "MoviePy - Writing audio in output\\Break__Duck_For_Cover.mp3\n"
     ]
    },
    {
     "name": "stderr",
     "output_type": "stream",
     "text": [
      "                                                                     \r"
     ]
    },
    {
     "name": "stdout",
     "output_type": "stream",
     "text": [
      "MoviePy - Done.\n",
      "O vídeo foi baixado e convertido em MP3: output\\Break__Duck_For_Cover.mp3\n",
      "Break - Duck For Cover.mp4\n",
      "output/temp\n",
      "Break - Duck For Cover.mp4\n",
      "MoviePy - Writing audio in output\\Break__Duck_For_Cover.mp3\n"
     ]
    },
    {
     "name": "stderr",
     "output_type": "stream",
     "text": [
      "                                                                     \r"
     ]
    },
    {
     "name": "stdout",
     "output_type": "stream",
     "text": [
      "MoviePy - Done.\n",
      "O vídeo foi baixado e convertido em MP3: output\\Break__Duck_For_Cover.mp3\n",
      "Break - Soldier.mp4\n",
      "output/temp\n",
      "Break - Soldier.mp4\n",
      "MoviePy - Writing audio in output\\Break__Soldier.mp3\n"
     ]
    },
    {
     "name": "stderr",
     "output_type": "stream",
     "text": [
      "                                                                     \r"
     ]
    },
    {
     "name": "stdout",
     "output_type": "stream",
     "text": [
      "MoviePy - Done.\n",
      "O vídeo foi baixado e convertido em MP3: output\\Break__Soldier.mp3\n",
      "Break - Soldier.mp4\n",
      "output/temp\n",
      "Break - Soldier.mp4\n",
      "MoviePy - Writing audio in output\\Break__Soldier.mp3\n"
     ]
    },
    {
     "name": "stderr",
     "output_type": "stream",
     "text": [
      "                                                                     \r"
     ]
    },
    {
     "name": "stdout",
     "output_type": "stream",
     "text": [
      "MoviePy - Done.\n",
      "O vídeo foi baixado e convertido em MP3: output\\Break__Soldier.mp3\n",
      "Break - On The Off.mp4\n",
      "output/temp\n",
      "Break - On The Off.mp4\n",
      "MoviePy - Writing audio in output\\Break__On_The_Off.mp3\n"
     ]
    },
    {
     "name": "stderr",
     "output_type": "stream",
     "text": [
      "                                                                     \r"
     ]
    },
    {
     "name": "stdout",
     "output_type": "stream",
     "text": [
      "MoviePy - Done.\n",
      "O vídeo foi baixado e convertido em MP3: output\\Break__On_The_Off.mp3\n",
      "Break - On The Off.mp4\n",
      "output/temp\n",
      "Break - On The Off.mp4\n",
      "MoviePy - Writing audio in output\\Break__On_The_Off.mp3\n"
     ]
    },
    {
     "name": "stderr",
     "output_type": "stream",
     "text": [
      "                                                                     \r"
     ]
    },
    {
     "name": "stdout",
     "output_type": "stream",
     "text": [
      "MoviePy - Done.\n",
      "O vídeo foi baixado e convertido em MP3: output\\Break__On_The_Off.mp3\n",
      "Break - Moving On.mp4\n",
      "output/temp\n",
      "Break - Moving On.mp4\n",
      "MoviePy - Writing audio in output\\Break__Moving_On.mp3\n"
     ]
    },
    {
     "name": "stderr",
     "output_type": "stream",
     "text": [
      "                                                                     \r"
     ]
    },
    {
     "name": "stdout",
     "output_type": "stream",
     "text": [
      "MoviePy - Done.\n",
      "O vídeo foi baixado e convertido em MP3: output\\Break__Moving_On.mp3\n",
      "Break - Moving On.mp4\n",
      "output/temp\n",
      "Break - Moving On.mp4\n",
      "MoviePy - Writing audio in output\\Break__Moving_On.mp3\n"
     ]
    },
    {
     "name": "stderr",
     "output_type": "stream",
     "text": [
      "                                                                      \r"
     ]
    },
    {
     "name": "stdout",
     "output_type": "stream",
     "text": [
      "MoviePy - Done.\n",
      "O vídeo foi baixado e convertido em MP3: output\\Break__Moving_On.mp3\n",
      "Break & Mikal - Status Low.mp4\n",
      "output/temp\n",
      "Break & Mikal - Status Low.mp4\n",
      "MoviePy - Writing audio in output\\Break__Mikal__Status_Low.mp3\n"
     ]
    },
    {
     "name": "stderr",
     "output_type": "stream",
     "text": [
      "                                                                      \r"
     ]
    },
    {
     "name": "stdout",
     "output_type": "stream",
     "text": [
      "MoviePy - Done.\n",
      "O vídeo foi baixado e convertido em MP3: output\\Break__Mikal__Status_Low.mp3\n",
      "Break & Mikal - Status Low.mp4\n",
      "output/temp\n",
      "Break & Mikal - Status Low.mp4\n",
      "MoviePy - Writing audio in output\\Break__Mikal__Status_Low.mp3\n"
     ]
    },
    {
     "name": "stderr",
     "output_type": "stream",
     "text": [
      "                                                                      \r"
     ]
    },
    {
     "name": "stdout",
     "output_type": "stream",
     "text": [
      "MoviePy - Done.\n",
      "O vídeo foi baixado e convertido em MP3: output\\Break__Mikal__Status_Low.mp3\n",
      "Mefjus - Dissuade.mp4\n",
      "output/temp\n",
      "Mefjus - Dissuade.mp4\n",
      "MoviePy - Writing audio in output\\Mefjus__Dissuade.mp3\n"
     ]
    },
    {
     "name": "stderr",
     "output_type": "stream",
     "text": [
      "                                                                      \r"
     ]
    },
    {
     "name": "stdout",
     "output_type": "stream",
     "text": [
      "MoviePy - Done.\n",
      "O vídeo foi baixado e convertido em MP3: output\\Mefjus__Dissuade.mp3\n",
      "Mefjus - Dissuade.mp4\n",
      "output/temp\n",
      "Mefjus - Dissuade.mp4\n",
      "MoviePy - Writing audio in output\\Mefjus__Dissuade.mp3\n"
     ]
    },
    {
     "name": "stderr",
     "output_type": "stream",
     "text": [
      "                                                                      \r"
     ]
    },
    {
     "name": "stdout",
     "output_type": "stream",
     "text": [
      "MoviePy - Done.\n",
      "O vídeo foi baixado e convertido em MP3: output\\Mefjus__Dissuade.mp3\n",
      "Calibre - Dema Beats.mp4\n",
      "output/temp\n",
      "Calibre - Dema Beats.mp4\n",
      "MoviePy - Writing audio in output\\Calibre__Dema_Beats.mp3\n"
     ]
    },
    {
     "name": "stderr",
     "output_type": "stream",
     "text": [
      "                                                                      \r"
     ]
    },
    {
     "name": "stdout",
     "output_type": "stream",
     "text": [
      "MoviePy - Done.\n",
      "O vídeo foi baixado e convertido em MP3: output\\Calibre__Dema_Beats.mp3\n",
      "Calibre - Dema Beats.mp4\n",
      "output/temp\n",
      "Calibre - Dema Beats.mp4\n",
      "MoviePy - Writing audio in output\\Calibre__Dema_Beats.mp3\n"
     ]
    },
    {
     "name": "stderr",
     "output_type": "stream",
     "text": [
      "                                                                      \r"
     ]
    },
    {
     "name": "stdout",
     "output_type": "stream",
     "text": [
      "MoviePy - Done.\n",
      "O vídeo foi baixado e convertido em MP3: output\\Calibre__Dema_Beats.mp3\n",
      "Calibre - Start Again feat Chimpo.mp4\n",
      "output/temp\n",
      "Calibre - Start Again feat Chimpo.mp4\n",
      "MoviePy - Writing audio in output\\Calibre__Start_Again_feat_Chimpo.mp3\n"
     ]
    },
    {
     "name": "stderr",
     "output_type": "stream",
     "text": [
      "                                                                      \r"
     ]
    },
    {
     "name": "stdout",
     "output_type": "stream",
     "text": [
      "MoviePy - Done.\n",
      "O vídeo foi baixado e convertido em MP3: output\\Calibre__Start_Again_feat_Chimpo.mp3\n",
      "Calibre - Start Again feat Chimpo.mp4\n",
      "output/temp\n",
      "Calibre - Start Again feat Chimpo.mp4\n",
      "MoviePy - Writing audio in output\\Calibre__Start_Again_feat_Chimpo.mp3\n"
     ]
    },
    {
     "name": "stderr",
     "output_type": "stream",
     "text": [
      "                                                                      \r"
     ]
    },
    {
     "name": "stdout",
     "output_type": "stream",
     "text": [
      "MoviePy - Done.\n",
      "O vídeo foi baixado e convertido em MP3: output\\Calibre__Start_Again_feat_Chimpo.mp3\n",
      "Mefjus & Kasra - Cypher.mp4\n",
      "output/temp\n",
      "Mefjus & Kasra - Cypher.mp4\n",
      "MoviePy - Writing audio in output\\Mefjus__Kasra__Cypher.mp3\n"
     ]
    },
    {
     "name": "stderr",
     "output_type": "stream",
     "text": [
      "                                                                      \r"
     ]
    },
    {
     "name": "stdout",
     "output_type": "stream",
     "text": [
      "MoviePy - Done.\n",
      "O vídeo foi baixado e convertido em MP3: output\\Mefjus__Kasra__Cypher.mp3\n",
      "Mefjus & Kasra - Cypher.mp4\n",
      "output/temp\n",
      "Mefjus & Kasra - Cypher.mp4\n",
      "MoviePy - Writing audio in output\\Mefjus__Kasra__Cypher.mp3\n"
     ]
    },
    {
     "name": "stderr",
     "output_type": "stream",
     "text": [
      "                                                                      \r"
     ]
    },
    {
     "name": "stdout",
     "output_type": "stream",
     "text": [
      "MoviePy - Done.\n",
      "O vídeo foi baixado e convertido em MP3: output\\Mefjus__Kasra__Cypher.mp3\n",
      "Shiver - Xtrvrt.mp4\n",
      "output/temp\n",
      "Shiver - Xtrvrt.mp4\n",
      "MoviePy - Writing audio in output\\Shiver__Xtrvrt.mp3\n"
     ]
    },
    {
     "name": "stderr",
     "output_type": "stream",
     "text": [
      "                                                                      \r"
     ]
    },
    {
     "name": "stdout",
     "output_type": "stream",
     "text": [
      "MoviePy - Done.\n",
      "O vídeo foi baixado e convertido em MP3: output\\Shiver__Xtrvrt.mp3\n",
      "Shiver - Xtrvrt.mp4\n",
      "output/temp\n",
      "Shiver - Xtrvrt.mp4\n",
      "MoviePy - Writing audio in output\\Shiver__Xtrvrt.mp3\n"
     ]
    },
    {
     "name": "stderr",
     "output_type": "stream",
     "text": [
      "                                                                      \r"
     ]
    },
    {
     "name": "stdout",
     "output_type": "stream",
     "text": [
      "MoviePy - Done.\n",
      "O vídeo foi baixado e convertido em MP3: output\\Shiver__Xtrvrt.mp3\n",
      "Break - Slipstream.mp4\n",
      "output/temp\n",
      "Break - Slipstream.mp4\n",
      "MoviePy - Writing audio in output\\Break__Slipstream.mp3\n"
     ]
    },
    {
     "name": "stderr",
     "output_type": "stream",
     "text": [
      "                                                                      \r"
     ]
    },
    {
     "name": "stdout",
     "output_type": "stream",
     "text": [
      "MoviePy - Done.\n",
      "O vídeo foi baixado e convertido em MP3: output\\Break__Slipstream.mp3\n",
      "Break - Slipstream.mp4\n",
      "output/temp\n",
      "Break - Slipstream.mp4\n",
      "MoviePy - Writing audio in output\\Break__Slipstream.mp3\n"
     ]
    },
    {
     "name": "stderr",
     "output_type": "stream",
     "text": [
      "                                                                      \r"
     ]
    },
    {
     "name": "stdout",
     "output_type": "stream",
     "text": [
      "MoviePy - Done.\n",
      "O vídeo foi baixado e convertido em MP3: output\\Break__Slipstream.mp3\n",
      "Break Fields Mako & Villem - Dilligence.mp4\n",
      "output/temp\n",
      "Break Fields Mako & Villem - Dilligence.mp4\n",
      "MoviePy - Writing audio in output\\Break_Fields_Mako__Villem__Dilligence.mp3\n"
     ]
    },
    {
     "name": "stderr",
     "output_type": "stream",
     "text": [
      "                                                                      \r"
     ]
    },
    {
     "name": "stdout",
     "output_type": "stream",
     "text": [
      "MoviePy - Done.\n",
      "O vídeo foi baixado e convertido em MP3: output\\Break_Fields_Mako__Villem__Dilligence.mp3\n",
      "Break Fields Mako & Villem - Dilligence.mp4\n",
      "output/temp\n",
      "Break Fields Mako & Villem - Dilligence.mp4\n",
      "MoviePy - Writing audio in output\\Break_Fields_Mako__Villem__Dilligence.mp3\n"
     ]
    },
    {
     "name": "stderr",
     "output_type": "stream",
     "text": [
      "                                                                      \r"
     ]
    },
    {
     "name": "stdout",
     "output_type": "stream",
     "text": [
      "MoviePy - Done.\n",
      "O vídeo foi baixado e convertido em MP3: output\\Break_Fields_Mako__Villem__Dilligence.mp3\n",
      "Emperor - Mind Games.mp4\n",
      "output/temp\n",
      "Emperor - Mind Games.mp4\n",
      "MoviePy - Writing audio in output\\Emperor__Mind_Games.mp3\n"
     ]
    },
    {
     "name": "stderr",
     "output_type": "stream",
     "text": [
      "                                                                      \r"
     ]
    },
    {
     "name": "stdout",
     "output_type": "stream",
     "text": [
      "MoviePy - Done.\n",
      "O vídeo foi baixado e convertido em MP3: output\\Emperor__Mind_Games.mp3\n",
      "Emperor - Mind Games.mp4\n",
      "output/temp\n",
      "Emperor - Mind Games.mp4\n",
      "MoviePy - Writing audio in output\\Emperor__Mind_Games.mp3\n"
     ]
    },
    {
     "name": "stderr",
     "output_type": "stream",
     "text": [
      "                                                                      \r"
     ]
    },
    {
     "name": "stdout",
     "output_type": "stream",
     "text": [
      "MoviePy - Done.\n",
      "O vídeo foi baixado e convertido em MP3: output\\Emperor__Mind_Games.mp3\n",
      "Black Sun Empire & State Of Mind - Ego VIP [Let It Roll Vol 1].mp4\n",
      "output/temp\n",
      "Black Sun Empire & State Of Mind - Ego VIP [Let It Roll Vol 1].mp4\n",
      "MoviePy - Writing audio in output\\Black_Sun_Empire__State_Of_Mind__Ego_VIP_Let_It_Roll_Vol_1.mp3\n"
     ]
    },
    {
     "name": "stderr",
     "output_type": "stream",
     "text": [
      "                                                                      \r"
     ]
    },
    {
     "name": "stdout",
     "output_type": "stream",
     "text": [
      "MoviePy - Done.\n",
      "O vídeo foi baixado e convertido em MP3: output\\Black_Sun_Empire__State_Of_Mind__Ego_VIP_Let_It_Roll_Vol_1.mp3\n",
      "Black Sun Empire & State Of Mind - Ego VIP [Let It Roll Vol 1].mp4\n",
      "output/temp\n",
      "Black Sun Empire & State Of Mind - Ego VIP [Let It Roll Vol 1].mp4\n",
      "MoviePy - Writing audio in output\\Black_Sun_Empire__State_Of_Mind__Ego_VIP_Let_It_Roll_Vol_1.mp3\n"
     ]
    },
    {
     "name": "stderr",
     "output_type": "stream",
     "text": [
      "                                                                      \r"
     ]
    },
    {
     "name": "stdout",
     "output_type": "stream",
     "text": [
      "MoviePy - Done.\n",
      "O vídeo foi baixado e convertido em MP3: output\\Black_Sun_Empire__State_Of_Mind__Ego_VIP_Let_It_Roll_Vol_1.mp3\n",
      "Eastcolors - Evidence.mp4\n",
      "output/temp\n",
      "Eastcolors - Evidence.mp4\n",
      "MoviePy - Writing audio in output\\Eastcolors__Evidence.mp3\n"
     ]
    },
    {
     "name": "stderr",
     "output_type": "stream",
     "text": [
      "                                                                     \r"
     ]
    },
    {
     "name": "stdout",
     "output_type": "stream",
     "text": [
      "MoviePy - Done.\n",
      "O vídeo foi baixado e convertido em MP3: output\\Eastcolors__Evidence.mp3\n",
      "Eastcolors - Evidence.mp4\n",
      "output/temp\n",
      "Eastcolors - Evidence.mp4\n",
      "MoviePy - Writing audio in output\\Eastcolors__Evidence.mp3\n"
     ]
    },
    {
     "name": "stderr",
     "output_type": "stream",
     "text": [
      "                                                                      \r"
     ]
    },
    {
     "name": "stdout",
     "output_type": "stream",
     "text": [
      "MoviePy - Done.\n",
      "O vídeo foi baixado e convertido em MP3: output\\Eastcolors__Evidence.mp3\n",
      "Halogenix - Shank.mp4\n",
      "output/temp\n",
      "Halogenix - Shank.mp4\n",
      "MoviePy - Writing audio in output\\Halogenix__Shank.mp3\n"
     ]
    },
    {
     "name": "stderr",
     "output_type": "stream",
     "text": [
      "                                                                      \r"
     ]
    },
    {
     "name": "stdout",
     "output_type": "stream",
     "text": [
      "MoviePy - Done.\n",
      "O vídeo foi baixado e convertido em MP3: output\\Halogenix__Shank.mp3\n",
      "Halogenix - Shank.mp4\n",
      "output/temp\n",
      "Halogenix - Shank.mp4\n",
      "MoviePy - Writing audio in output\\Halogenix__Shank.mp3\n"
     ]
    },
    {
     "name": "stderr",
     "output_type": "stream",
     "text": [
      "                                                                      \r"
     ]
    },
    {
     "name": "stdout",
     "output_type": "stream",
     "text": [
      "MoviePy - Done.\n",
      "O vídeo foi baixado e convertido em MP3: output\\Halogenix__Shank.mp3\n",
      "SCAR - Shadows.mp4\n",
      "output/temp\n",
      "SCAR - Shadows.mp4\n",
      "MoviePy - Writing audio in output\\SCAR__Shadows.mp3\n"
     ]
    },
    {
     "name": "stderr",
     "output_type": "stream",
     "text": [
      "                                                                      \r"
     ]
    },
    {
     "name": "stdout",
     "output_type": "stream",
     "text": [
      "MoviePy - Done.\n",
      "O vídeo foi baixado e convertido em MP3: output\\SCAR__Shadows.mp3\n",
      "SCAR - Shadows.mp4\n",
      "output/temp\n",
      "SCAR - Shadows.mp4\n",
      "MoviePy - Writing audio in output\\SCAR__Shadows.mp3\n"
     ]
    },
    {
     "name": "stderr",
     "output_type": "stream",
     "text": [
      "                                                                      \r"
     ]
    },
    {
     "name": "stdout",
     "output_type": "stream",
     "text": [
      "MoviePy - Done.\n",
      "O vídeo foi baixado e convertido em MP3: output\\SCAR__Shadows.mp3\n",
      "SCAR - Liar feat Kontrol.mp4\n",
      "output/temp\n",
      "SCAR - Liar feat Kontrol.mp4\n",
      "MoviePy - Writing audio in output\\SCAR__Liar_feat_Kontrol.mp3\n"
     ]
    },
    {
     "name": "stderr",
     "output_type": "stream",
     "text": [
      "                                                                      \r"
     ]
    },
    {
     "name": "stdout",
     "output_type": "stream",
     "text": [
      "MoviePy - Done.\n",
      "O vídeo foi baixado e convertido em MP3: output\\SCAR__Liar_feat_Kontrol.mp3\n",
      "SCAR - Liar feat Kontrol.mp4\n",
      "output/temp\n",
      "SCAR - Liar feat Kontrol.mp4\n",
      "MoviePy - Writing audio in output\\SCAR__Liar_feat_Kontrol.mp3\n"
     ]
    },
    {
     "name": "stderr",
     "output_type": "stream",
     "text": [
      "                                                                      \r"
     ]
    },
    {
     "name": "stdout",
     "output_type": "stream",
     "text": [
      "MoviePy - Done.\n",
      "O vídeo foi baixado e convertido em MP3: output\\SCAR__Liar_feat_Kontrol.mp3\n",
      "Murdock & Doctrine - I Owe You.mp4\n",
      "output/temp\n",
      "Murdock & Doctrine - I Owe You.mp4\n",
      "MoviePy - Writing audio in output\\Murdock__Doctrine__I_Owe_You.mp3\n"
     ]
    },
    {
     "name": "stderr",
     "output_type": "stream",
     "text": [
      "                                                                      \r"
     ]
    },
    {
     "name": "stdout",
     "output_type": "stream",
     "text": [
      "MoviePy - Done.\n",
      "O vídeo foi baixado e convertido em MP3: output\\Murdock__Doctrine__I_Owe_You.mp3\n",
      "Murdock & Doctrine - I Owe You.mp4\n",
      "output/temp\n",
      "Murdock & Doctrine - I Owe You.mp4\n",
      "MoviePy - Writing audio in output\\Murdock__Doctrine__I_Owe_You.mp3\n"
     ]
    },
    {
     "name": "stderr",
     "output_type": "stream",
     "text": [
      "                                                                      \r"
     ]
    },
    {
     "name": "stdout",
     "output_type": "stream",
     "text": [
      "MoviePy - Done.\n",
      "O vídeo foi baixado e convertido em MP3: output\\Murdock__Doctrine__I_Owe_You.mp3\n",
      "A-Cray - Nuclear Whatever.mp4\n",
      "output/temp\n",
      "A-Cray - Nuclear Whatever.mp4\n",
      "MoviePy - Writing audio in output\\ACray__Nuclear_Whatever.mp3\n"
     ]
    },
    {
     "name": "stderr",
     "output_type": "stream",
     "text": [
      "                                                                      \r"
     ]
    },
    {
     "name": "stdout",
     "output_type": "stream",
     "text": [
      "MoviePy - Done.\n",
      "O vídeo foi baixado e convertido em MP3: output\\ACray__Nuclear_Whatever.mp3\n",
      "A-Cray - Nuclear Whatever.mp4\n",
      "output/temp\n",
      "A-Cray - Nuclear Whatever.mp4\n",
      "MoviePy - Writing audio in output\\ACray__Nuclear_Whatever.mp3\n"
     ]
    },
    {
     "name": "stderr",
     "output_type": "stream",
     "text": [
      "                                                                      \r"
     ]
    },
    {
     "name": "stdout",
     "output_type": "stream",
     "text": [
      "MoviePy - Done.\n",
      "O vídeo foi baixado e convertido em MP3: output\\ACray__Nuclear_Whatever.mp3\n",
      "Skope & Disprove - Break It Up [Caliber Music].mp4\n",
      "output/temp\n",
      "Skope & Disprove - Break It Up [Caliber Music].mp4\n",
      "MoviePy - Writing audio in output\\Skope__Disprove__Break_It_Up_Caliber_Music.mp3\n"
     ]
    },
    {
     "name": "stderr",
     "output_type": "stream",
     "text": [
      "                                                                      \r"
     ]
    },
    {
     "name": "stdout",
     "output_type": "stream",
     "text": [
      "MoviePy - Done.\n",
      "O vídeo foi baixado e convertido em MP3: output\\Skope__Disprove__Break_It_Up_Caliber_Music.mp3\n",
      "Skope & Disprove - Break It Up [Caliber Music].mp4\n",
      "output/temp\n",
      "Skope & Disprove - Break It Up [Caliber Music].mp4\n",
      "MoviePy - Writing audio in output\\Skope__Disprove__Break_It_Up_Caliber_Music.mp3\n"
     ]
    },
    {
     "name": "stderr",
     "output_type": "stream",
     "text": [
      "                                                                      \r"
     ]
    },
    {
     "name": "stdout",
     "output_type": "stream",
     "text": [
      "MoviePy - Done.\n",
      "O vídeo foi baixado e convertido em MP3: output\\Skope__Disprove__Break_It_Up_Caliber_Music.mp3\n",
      "The Fade - Tear Out The Page.mp4\n",
      "output/temp\n",
      "The Fade - Tear Out The Page.mp4\n",
      "MoviePy - Writing audio in output\\The_Fade__Tear_Out_The_Page.mp3\n"
     ]
    },
    {
     "name": "stderr",
     "output_type": "stream",
     "text": [
      "                                                                      \r"
     ]
    },
    {
     "name": "stdout",
     "output_type": "stream",
     "text": [
      "MoviePy - Done.\n",
      "O vídeo foi baixado e convertido em MP3: output\\The_Fade__Tear_Out_The_Page.mp3\n",
      "The Fade - Tear Out The Page.mp4\n",
      "output/temp\n",
      "The Fade - Tear Out The Page.mp4\n",
      "MoviePy - Writing audio in output\\The_Fade__Tear_Out_The_Page.mp3\n"
     ]
    },
    {
     "name": "stderr",
     "output_type": "stream",
     "text": [
      "                                                                      \r"
     ]
    },
    {
     "name": "stdout",
     "output_type": "stream",
     "text": [
      "MoviePy - Done.\n",
      "O vídeo foi baixado e convertido em MP3: output\\The_Fade__Tear_Out_The_Page.mp3\n"
     ]
    },
    {
     "ename": "AgeRestrictedError",
     "evalue": "Vf0-ZYXbL1E is age restricted, and can't be accessed without logging in.",
     "output_type": "error",
     "traceback": [
      "\u001b[1;31m---------------------------------------------------------------------------\u001b[0m",
      "\u001b[1;31mAgeRestrictedError\u001b[0m                        Traceback (most recent call last)",
      "\u001b[1;32md:\\PEDRO\\projects\\github\\yt_to_ponto_mp3\\main.ipynb Cell 3\u001b[0m line \u001b[0;36m1\n\u001b[0;32m     <a href='vscode-notebook-cell:/d%3A/PEDRO/projects/github/yt_to_ponto_mp3/main.ipynb#W2sZmlsZQ%3D%3D?line=9'>10</a>\u001b[0m \u001b[39m# Baixar o vídeo\u001b[39;00m\n\u001b[0;32m     <a href='vscode-notebook-cell:/d%3A/PEDRO/projects/github/yt_to_ponto_mp3/main.ipynb#W2sZmlsZQ%3D%3D?line=10'>11</a>\u001b[0m yt \u001b[39m=\u001b[39m YouTube(video_url)\n\u001b[1;32m---> <a href='vscode-notebook-cell:/d%3A/PEDRO/projects/github/yt_to_ponto_mp3/main.ipynb#W2sZmlsZQ%3D%3D?line=11'>12</a>\u001b[0m video_stream \u001b[39m=\u001b[39m yt\u001b[39m.\u001b[39;49mstreams\u001b[39m.\u001b[39mfilter(file_extension\u001b[39m=\u001b[39m\u001b[39m'\u001b[39m\u001b[39mmp4\u001b[39m\u001b[39m'\u001b[39m)\u001b[39m.\u001b[39mfirst()\n\u001b[0;32m     <a href='vscode-notebook-cell:/d%3A/PEDRO/projects/github/yt_to_ponto_mp3/main.ipynb#W2sZmlsZQ%3D%3D?line=12'>13</a>\u001b[0m video_stream\u001b[39m.\u001b[39mdownload(output_path\u001b[39m=\u001b[39mtemp_dir)\n\u001b[0;32m     <a href='vscode-notebook-cell:/d%3A/PEDRO/projects/github/yt_to_ponto_mp3/main.ipynb#W2sZmlsZQ%3D%3D?line=14'>15</a>\u001b[0m arquivo_temp \u001b[39m=\u001b[39m hp\u001b[39m.\u001b[39mlistar_arquivos_em_pasta(temp_dir)\n",
      "File \u001b[1;32m~\\AppData\\Local\\Packages\\PythonSoftwareFoundation.Python.3.11_qbz5n2kfra8p0\\LocalCache\\local-packages\\Python311\\site-packages\\pytube\\__main__.py:296\u001b[0m, in \u001b[0;36mYouTube.streams\u001b[1;34m(self)\u001b[0m\n\u001b[0;32m    291\u001b[0m \u001b[39m\u001b[39m\u001b[39m\"\"\"Interface to query both adaptive (DASH) and progressive streams.\u001b[39;00m\n\u001b[0;32m    292\u001b[0m \n\u001b[0;32m    293\u001b[0m \u001b[39m:rtype: :class:`StreamQuery <StreamQuery>`.\u001b[39;00m\n\u001b[0;32m    294\u001b[0m \u001b[39m\"\"\"\u001b[39;00m\n\u001b[0;32m    295\u001b[0m \u001b[39mself\u001b[39m\u001b[39m.\u001b[39mcheck_availability()\n\u001b[1;32m--> 296\u001b[0m \u001b[39mreturn\u001b[39;00m StreamQuery(\u001b[39mself\u001b[39;49m\u001b[39m.\u001b[39;49mfmt_streams)\n",
      "File \u001b[1;32m~\\AppData\\Local\\Packages\\PythonSoftwareFoundation.Python.3.11_qbz5n2kfra8p0\\LocalCache\\local-packages\\Python311\\site-packages\\pytube\\__main__.py:176\u001b[0m, in \u001b[0;36mYouTube.fmt_streams\u001b[1;34m(self)\u001b[0m\n\u001b[0;32m    172\u001b[0m     \u001b[39mreturn\u001b[39;00m \u001b[39mself\u001b[39m\u001b[39m.\u001b[39m_fmt_streams\n\u001b[0;32m    174\u001b[0m \u001b[39mself\u001b[39m\u001b[39m.\u001b[39m_fmt_streams \u001b[39m=\u001b[39m []\n\u001b[1;32m--> 176\u001b[0m stream_manifest \u001b[39m=\u001b[39m extract\u001b[39m.\u001b[39mapply_descrambler(\u001b[39mself\u001b[39;49m\u001b[39m.\u001b[39;49mstreaming_data)\n\u001b[0;32m    178\u001b[0m \u001b[39m# If the cached js doesn't work, try fetching a new js file\u001b[39;00m\n\u001b[0;32m    179\u001b[0m \u001b[39m# https://github.com/pytube/pytube/issues/1054\u001b[39;00m\n\u001b[0;32m    180\u001b[0m \u001b[39mtry\u001b[39;00m:\n",
      "File \u001b[1;32m~\\AppData\\Local\\Packages\\PythonSoftwareFoundation.Python.3.11_qbz5n2kfra8p0\\LocalCache\\local-packages\\Python311\\site-packages\\pytube\\__main__.py:160\u001b[0m, in \u001b[0;36mYouTube.streaming_data\u001b[1;34m(self)\u001b[0m\n\u001b[0;32m    158\u001b[0m     \u001b[39mreturn\u001b[39;00m \u001b[39mself\u001b[39m\u001b[39m.\u001b[39mvid_info[\u001b[39m'\u001b[39m\u001b[39mstreamingData\u001b[39m\u001b[39m'\u001b[39m]\n\u001b[0;32m    159\u001b[0m \u001b[39melse\u001b[39;00m:\n\u001b[1;32m--> 160\u001b[0m     \u001b[39mself\u001b[39;49m\u001b[39m.\u001b[39;49mbypass_age_gate()\n\u001b[0;32m    161\u001b[0m     \u001b[39mreturn\u001b[39;00m \u001b[39mself\u001b[39m\u001b[39m.\u001b[39mvid_info[\u001b[39m'\u001b[39m\u001b[39mstreamingData\u001b[39m\u001b[39m'\u001b[39m]\n",
      "File \u001b[1;32m~\\AppData\\Local\\Packages\\PythonSoftwareFoundation.Python.3.11_qbz5n2kfra8p0\\LocalCache\\local-packages\\Python311\\site-packages\\pytube\\__main__.py:264\u001b[0m, in \u001b[0;36mYouTube.bypass_age_gate\u001b[1;34m(self)\u001b[0m\n\u001b[0;32m    261\u001b[0m \u001b[39m# If we still can't access the video, raise an exception\u001b[39;00m\n\u001b[0;32m    262\u001b[0m \u001b[39m# (tier 3 age restriction)\u001b[39;00m\n\u001b[0;32m    263\u001b[0m \u001b[39mif\u001b[39;00m playability_status \u001b[39m==\u001b[39m \u001b[39m'\u001b[39m\u001b[39mUNPLAYABLE\u001b[39m\u001b[39m'\u001b[39m:\n\u001b[1;32m--> 264\u001b[0m     \u001b[39mraise\u001b[39;00m exceptions\u001b[39m.\u001b[39mAgeRestrictedError(\u001b[39mself\u001b[39m\u001b[39m.\u001b[39mvideo_id)\n\u001b[0;32m    266\u001b[0m \u001b[39mself\u001b[39m\u001b[39m.\u001b[39m_vid_info \u001b[39m=\u001b[39m innertube_response\n",
      "\u001b[1;31mAgeRestrictedError\u001b[0m: Vf0-ZYXbL1E is age restricted, and can't be accessed without logging in."
     ]
    }
   ],
   "source": [
    "playlist = pd.read_csv('d_and_b_pacaralho.csv')\n",
    "# URL do vídeo do YouTube\n",
    "for i in range(len(playlist)):\n",
    "    video_url = f\"https://www.youtube.com{playlist['link'][i]}\"\n",
    "\n",
    "    # Diretório de saída para salvar o vídeo e o arquivo MP3\n",
    "    output_dir = 'output'\n",
    "    temp_dir = f'{output_dir}/temp'\n",
    "\n",
    "    # Baixar o vídeo\n",
    "    yt = YouTube(video_url)\n",
    "    video_stream = yt.streams.filter(file_extension='mp4').first()\n",
    "    video_stream.download(output_path=temp_dir)\n",
    "\n",
    "    arquivo_temp = hp.listar_arquivos_em_pasta(temp_dir)\n",
    "\n",
    "    video_filename = f'{temp_dir}/{arquivo_temp[0]}'\n",
    "\n",
    "    audio_filename = f\"{hp.renomear_string(arquivo_temp[0].split('.')[0])}.mp3\"\n",
    "\n",
    "    print(arquivo_temp[0].split('/')[-1])\n",
    "    print(temp_dir)\n",
    "    #hp.renomear_arquivo(f'{temp_dir}', arquivo_temp[0].split('/')[-1])\n",
    "\n",
    "    caminho = temp_dir\n",
    "    nome = arquivo_temp[0].split('/')[-1]\n",
    "    nome_antigo = os.path.basename(caminho)\n",
    "    # Obter a extensão do arquivo\n",
    "    print(nome)\n",
    "    nome_raw = nome.split('.')[0]\n",
    "    extensao = nome.split('.')[1]\n",
    "\n",
    "    # Normalizar o nome novo para a forma NFKD, que separa os caracteres base dos diacríticos\n",
    "    nome = unicodedata.normalize('NFKD', nome_raw)\n",
    "    # Remover os diacríticos usando uma compreensão de lista\n",
    "    nome = ''.join([c for c in nome if not unicodedata.combining(c)])\n",
    "    # Substituir os espaços por underline usando o método replace\n",
    "    nome = nome.replace(' ', '_')\n",
    "    # Remover os caracteres especiais usando uma expressão regular\n",
    "    nome = re.sub('[^A-Za-z0-9_]', '', nome)\n",
    "    # Juntar o nome novo com a extensão do arquivo\n",
    "    nome_novo = nome + '.' + extensao\n",
    "    # Obter o caminho novo do arquivo\n",
    "    caminho_novo = f\"{caminho}/{nome_novo}\"\n",
    "\n",
    "\n",
    "    # Renomear o arquivo usando o método rename\n",
    "    os.rename(video_filename, f'{os.getcwd()}/{caminho_novo}')\n",
    "\n",
    "    # Converter o vídeo em \n",
    "    video_clip = VideoFileClip(caminho_novo)\n",
    "    audio_clip = video_clip.audio\n",
    "    audio_filename = os.path.join(output_dir, audio_filename)\n",
    "    audio_clip.write_audiofile(audio_filename)\n",
    "\n",
    "\n",
    "    # Limpar arquivos temporários\n",
    "    video_clip.close()\n",
    "    audio_clip.close()\n",
    "    os.remove(caminho_novo)\n",
    "\n",
    "    print(f'O vídeo foi baixado e convertido em MP3: {audio_filename}')\n"
   ]
  }
 ],
 "metadata": {
  "kernelspec": {
   "display_name": "base",
   "language": "python",
   "name": "python3"
  },
  "language_info": {
   "codemirror_mode": {
    "name": "ipython",
    "version": 3
   },
   "file_extension": ".py",
   "mimetype": "text/x-python",
   "name": "python",
   "nbconvert_exporter": "python",
   "pygments_lexer": "ipython3",
   "version": "3.11.6"
  },
  "orig_nbformat": 4
 },
 "nbformat": 4,
 "nbformat_minor": 2
}
