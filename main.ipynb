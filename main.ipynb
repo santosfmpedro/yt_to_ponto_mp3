{
 "cells": [
  {
   "cell_type": "code",
   "execution_count": 1,
   "metadata": {},
   "outputs": [],
   "source": [
    "from modules import main_functions as mf"
   ]
  },
  {
   "cell_type": "code",
   "execution_count": null,
   "metadata": {},
   "outputs": [],
   "source": [
    "video_url = 'https://www.youtube.com/watch?v=5SJHWZjM7aY'\n",
    "\n",
    "# Diretório de saída para salvar o vídeo e o arquivo MP3\n",
    "output_dir = 'output'\n",
    "temp_dir = f'{output_dir}/temp'\n",
    "\n",
    "# Baixar o vídeo\n",
    "mf.download_mp3(video_url, output_dir,temp_dir)"
   ]
  },
  {
   "cell_type": "code",
   "execution_count": 2,
   "metadata": {},
   "outputs": [
    {
     "name": "stdout",
     "output_type": "stream",
     "text": [
      "Folder 'drum_and_bass_donwload' already exists at 'd:\\PEDRO\\projects\\github\\yt_to_ponto_mp3\\output\\drum_and_bass_donwload'\n",
      "Off_The_Ground.mp4\n",
      "output/temp\n",
      "Off_The_Ground.mp4\n",
      "Off_The_Ground\n",
      "output/temp/Off_The_Ground.mp4\n",
      "MoviePy - Writing audio in output\\drum_and_bass_donwload/Off_The_Ground.mp3\n"
     ]
    },
    {
     "name": "stderr",
     "output_type": "stream",
     "text": [
      "                                                                     \r"
     ]
    },
    {
     "name": "stdout",
     "output_type": "stream",
     "text": [
      "MoviePy - Done.\n",
      "O vídeo foi baixado e convertido em MP3: output\\drum_and_bass_donwload/Off_The_Ground.mp3\n",
      "Balling [Edit].mp4\n",
      "output/temp\n",
      "Balling [Edit].mp4\n",
      "Balling [Edit]\n",
      "output/temp/Balling_Edit.mp4\n",
      "MoviePy - Writing audio in output\\drum_and_bass_donwload/Balling_Edit.mp3\n"
     ]
    },
    {
     "name": "stderr",
     "output_type": "stream",
     "text": [
      "                                                                     \r"
     ]
    },
    {
     "name": "stdout",
     "output_type": "stream",
     "text": [
      "MoviePy - Done.\n",
      "O vídeo foi baixado e convertido em MP3: output\\drum_and_bass_donwload/Balling_Edit.mp3\n",
      "El Gato.mp4\n",
      "output/temp\n",
      "El Gato.mp4\n",
      "El Gato\n",
      "output/temp/El_Gato.mp4\n",
      "MoviePy - Writing audio in output\\drum_and_bass_donwload/El_Gato.mp3\n"
     ]
    },
    {
     "name": "stderr",
     "output_type": "stream",
     "text": [
      "                                                                     \r"
     ]
    },
    {
     "name": "stdout",
     "output_type": "stream",
     "text": [
      "MoviePy - Done.\n",
      "O vídeo foi baixado e convertido em MP3: output\\drum_and_bass_donwload/El_Gato.mp3\n",
      "Tell You What I Did.mp4\n",
      "output/temp\n",
      "Tell You What I Did.mp4\n",
      "Tell You What I Did\n",
      "output/temp/Tell_You_What_I_Did.mp4\n",
      "MoviePy - Writing audio in output\\drum_and_bass_donwload/Tell_You_What_I_Did.mp3\n"
     ]
    },
    {
     "name": "stderr",
     "output_type": "stream",
     "text": [
      "                                                                     \r"
     ]
    },
    {
     "name": "stdout",
     "output_type": "stream",
     "text": [
      "MoviePy - Done.\n",
      "O vídeo foi baixado e convertido em MP3: output\\drum_and_bass_donwload/Tell_You_What_I_Did.mp3\n",
      "Close To Me.mp4\n",
      "output/temp\n",
      "Close To Me.mp4\n",
      "Close To Me\n",
      "output/temp/Close_To_Me.mp4\n",
      "MoviePy - Writing audio in output\\drum_and_bass_donwload/Close_To_Me.mp3\n"
     ]
    },
    {
     "name": "stderr",
     "output_type": "stream",
     "text": [
      "                                                                     \r"
     ]
    },
    {
     "name": "stdout",
     "output_type": "stream",
     "text": [
      "MoviePy - Done.\n",
      "O vídeo foi baixado e convertido em MP3: output\\drum_and_bass_donwload/Close_To_Me.mp3\n",
      "DNB MALA Changes KRUZIE bootleg.mp4\n",
      "output/temp\n",
      "DNB MALA Changes KRUZIE bootleg.mp4\n",
      "DNB MALA Changes KRUZIE bootleg\n",
      "output/temp/DNB_MALA_Changes_KRUZIE_bootleg.mp4\n",
      "MoviePy - Writing audio in output\\drum_and_bass_donwload/DNB_MALA_Changes_KRUZIE_bootleg.mp3\n"
     ]
    },
    {
     "name": "stderr",
     "output_type": "stream",
     "text": [
      "chunk:  79%|███████▉  | 4105/5204 [00:09<00:02, 510.02it/s, now=None]"
     ]
    }
   ],
   "source": [
    "playlist_name = 'drum_and_bass_donwload'\n",
    "path_playlist = 'D:/PEDRO/projects/github/yt_to_ponto_mp3/output/links_musics/drum_and_bass_donwload.csv'\n",
    "# Baixar o vídeo\n",
    "# Baixar a playlist\n",
    "\n",
    "# Diretório de saída para salvar o vídeo e o arquivo MP3\n",
    "output_dir = 'output'\n",
    "temp_dir = f'{output_dir}/temp'\n",
    "\n",
    "mf.download_playlist_mp3(playlist_name,path_playlist,output_dir,temp_dir)"
   ]
  },
  {
   "cell_type": "code",
   "execution_count": null,
   "metadata": {},
   "outputs": [],
   "source": []
  },
  {
   "cell_type": "code",
   "execution_count": null,
   "metadata": {},
   "outputs": [],
   "source": []
  }
 ],
 "metadata": {
  "kernelspec": {
   "display_name": "base",
   "language": "python",
   "name": "python3"
  },
  "language_info": {
   "codemirror_mode": {
    "name": "ipython",
    "version": 3
   },
   "file_extension": ".py",
   "mimetype": "text/x-python",
   "name": "python",
   "nbconvert_exporter": "python",
   "pygments_lexer": "ipython3",
   "version": "3.11.9"
  },
  "orig_nbformat": 4
 },
 "nbformat": 4,
 "nbformat_minor": 2
}
