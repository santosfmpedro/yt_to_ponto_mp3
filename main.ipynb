{
 "cells": [
  {
   "cell_type": "code",
   "execution_count": null,
   "metadata": {},
   "outputs": [
    {
     "data": {
      "text/plain": [
       "CompletedProcess(args=['python', 'modules/find_urls.py', '../guide_playlist.csv'], returncode=1)"
      ]
     },
     "execution_count": 21,
     "metadata": {},
     "output_type": "execute_result"
    }
   ],
   "source": [
    "import subprocess\n",
    "\n",
    "# Especifique o caminho para o arquivo .py \n",
    "script_path = \"modules/find_urls.py\"\n",
    "\n",
    "# Especifique o URL da playlist como um argumento\n",
    "guide_playlist_path = 'guide_playlist.csv'\n",
    "\n",
    "# Execute o script .py com o URL da playlist como argumento\n",
    "subprocess.run([\"python\", script_path, guide_playlist_path])"
   ]
  },
  {
   "cell_type": "code",
   "execution_count": 1,
   "metadata": {},
   "outputs": [],
   "source": [
    "import pandas as  pd \n",
    "import os\n",
    "from pytube import YouTube\n",
    "from moviepy.editor import VideoFileClip\n",
    "# Importar o módulo unicodedata para converter caracteres unicode\n",
    "import unicodedata\n",
    "# Importar o módulo re para usar expressões regulares\n",
    "import re\n",
    "from modules import help_functions as hp\n"
   ]
  },
  {
   "cell_type": "code",
   "execution_count": 2,
   "metadata": {},
   "outputs": [
    {
     "name": "stdout",
     "output_type": "stream",
     "text": [
      "Qual É a Boa.mp4\n",
      "output/temp\n",
      "Qual É a Boa.mp4\n"
     ]
    },
    {
     "ename": "OSError",
     "evalue": "[WinError 87] Parâmetro incorreto: 'output/temp' -> 'output/temp/Qual É a Boa.mp4'",
     "output_type": "error",
     "traceback": [
      "\u001b[1;31m---------------------------------------------------------------------------\u001b[0m",
      "\u001b[1;31mOSError\u001b[0m                                   Traceback (most recent call last)",
      "\u001b[1;32md:\\PEDRO\\projects\\github\\yt_to_ponto_mp3\\main.ipynb Cell 3\u001b[0m line \u001b[0;36m2\n\u001b[0;32m     <a href='vscode-notebook-cell:/d%3A/PEDRO/projects/github/yt_to_ponto_mp3/main.ipynb#W2sZmlsZQ%3D%3D?line=19'>20</a>\u001b[0m \u001b[39mprint\u001b[39m(arquivo_temp[\u001b[39m0\u001b[39m]\u001b[39m.\u001b[39msplit(\u001b[39m'\u001b[39m\u001b[39m/\u001b[39m\u001b[39m'\u001b[39m)[\u001b[39m-\u001b[39m\u001b[39m1\u001b[39m])\n\u001b[0;32m     <a href='vscode-notebook-cell:/d%3A/PEDRO/projects/github/yt_to_ponto_mp3/main.ipynb#W2sZmlsZQ%3D%3D?line=20'>21</a>\u001b[0m \u001b[39mprint\u001b[39m(temp_dir)\n\u001b[1;32m---> <a href='vscode-notebook-cell:/d%3A/PEDRO/projects/github/yt_to_ponto_mp3/main.ipynb#W2sZmlsZQ%3D%3D?line=21'>22</a>\u001b[0m hp\u001b[39m.\u001b[39;49mrenomear_arquivo(\u001b[39mf\u001b[39;49m\u001b[39m'\u001b[39;49m\u001b[39m{\u001b[39;49;00mtemp_dir\u001b[39m}\u001b[39;49;00m\u001b[39m'\u001b[39;49m, arquivo_temp[\u001b[39m0\u001b[39;49m]\u001b[39m.\u001b[39;49msplit(\u001b[39m'\u001b[39;49m\u001b[39m/\u001b[39;49m\u001b[39m'\u001b[39;49m)[\u001b[39m-\u001b[39;49m\u001b[39m1\u001b[39;49m])\n",
      "File \u001b[1;32md:\\PEDRO\\projects\\github\\yt_to_ponto_mp3\\modules\\help_functions.py:57\u001b[0m, in \u001b[0;36mrenomear_arquivo\u001b[1;34m(caminho, nome)\u001b[0m\n\u001b[0;32m     55\u001b[0m caminho_novo \u001b[39m=\u001b[39m \u001b[39mf\u001b[39m\u001b[39m\"\u001b[39m\u001b[39m{\u001b[39;00mcaminho\u001b[39m}\u001b[39;00m\u001b[39m/\u001b[39m\u001b[39m{\u001b[39;00mnome_novo\u001b[39m}\u001b[39;00m\u001b[39m\"\u001b[39m\n\u001b[0;32m     56\u001b[0m \u001b[39m# Renomear o arquivo usando o método rename\u001b[39;00m\n\u001b[1;32m---> 57\u001b[0m os\u001b[39m.\u001b[39;49mrename(caminho, caminho_novo)\n\u001b[0;32m     58\u001b[0m \u001b[39m# Retornar o caminho novo do arquivo\u001b[39;00m\n\u001b[0;32m     59\u001b[0m \u001b[39mreturn\u001b[39;00m caminho_novo\n",
      "\u001b[1;31mOSError\u001b[0m: [WinError 87] Parâmetro incorreto: 'output/temp' -> 'output/temp/Qual É a Boa.mp4'"
     ]
    }
   ],
   "source": [
    "playlist = pd.read_csv('funk_mg.csv')\n",
    "# URL do vídeo do YouTube\n",
    "video_url = f\"https://www.youtube.com{playlist['link'][1]}\"\n",
    "\n",
    "# Diretório de saída para salvar o vídeo e o arquivo MP3\n",
    "output_dir = 'output'\n",
    "temp_dir = f'{output_dir}/temp'\n",
    "\n",
    "# Baixar o vídeo\n",
    "yt = YouTube(video_url)\n",
    "video_stream = yt.streams.filter(file_extension='mp4').first()\n",
    "video_stream.download(output_path=temp_dir)\n",
    "\n",
    "arquivo_temp = hp.listar_arquivos_em_pasta(temp_dir)\n",
    "\n",
    "video_filename = f'{temp_dir}/{arquivo_temp[0]}'\n",
    "\n",
    "audio_filename = f\"{hp.renomear_string(arquivo_temp[0].split('.')[0])}.mp3\"\n",
    "\n",
    "print(arquivo_temp[0].split('/')[-1])\n",
    "print(temp_dir)\n",
    "hp.renomear_arquivo(f'{temp_dir}', arquivo_temp[0].split('/')[-1])"
   ]
  },
  {
   "cell_type": "code",
   "execution_count": 13,
   "metadata": {},
   "outputs": [
    {
     "name": "stdout",
     "output_type": "stream",
     "text": [
      "Qual É a Boa.mp4\n"
     ]
    }
   ],
   "source": [
    "caminho = temp_dir\n",
    "nome = arquivo_temp[0].split('/')[-1]\n",
    "nome_antigo = os.path.basename(caminho)\n",
    "# Obter a extensão do arquivo\n",
    "print(nome)\n",
    "nome_raw = nome.split('.')[0]\n",
    "extensao = nome.split('.')[1]"
   ]
  },
  {
   "cell_type": "code",
   "execution_count": 25,
   "metadata": {},
   "outputs": [],
   "source": [
    "\n",
    "# Normalizar o nome novo para a forma NFKD, que separa os caracteres base dos diacríticos\n",
    "nome = unicodedata.normalize('NFKD', nome_raw)\n",
    "# Remover os diacríticos usando uma compreensão de lista\n",
    "nome = ''.join([c for c in nome if not unicodedata.combining(c)])\n",
    "# Substituir os espaços por underline usando o método replace\n",
    "nome = nome.replace(' ', '_')\n",
    "# Remover os caracteres especiais usando uma expressão regular\n",
    "nome = re.sub('[^A-Za-z0-9_]', '', nome)\n",
    "# Juntar o nome novo com a extensão do arquivo\n",
    "nome_novo = nome + '.' + extensao\n",
    "# Obter o caminho novo do arquivo\n",
    "caminho_novo = f\"{caminho}/{nome_novo}\"\n",
    "\n",
    "\n",
    "# Renomear o arquivo usando o método rename\n",
    "os.rename(video_filename, f'{os.getcwd()}/{caminho_novo}')"
   ]
  },
  {
   "cell_type": "code",
   "execution_count": 18,
   "metadata": {},
   "outputs": [
    {
     "data": {
      "text/plain": [
       "'output/temp'"
      ]
     },
     "execution_count": 18,
     "metadata": {},
     "output_type": "execute_result"
    }
   ],
   "source": [
    "caminho"
   ]
  },
  {
   "cell_type": "code",
   "execution_count": 23,
   "metadata": {},
   "outputs": [
    {
     "data": {
      "text/plain": [
       "'output/temp/Qual_E_a_Boa'"
      ]
     },
     "execution_count": 23,
     "metadata": {},
     "output_type": "execute_result"
    }
   ],
   "source": [
    "caminho_novo"
   ]
  },
  {
   "cell_type": "code",
   "execution_count": 20,
   "metadata": {},
   "outputs": [
    {
     "data": {
      "text/plain": [
       "'d:\\\\PEDRO\\\\projects\\\\github\\\\yt_to_ponto_mp3'"
      ]
     },
     "execution_count": 20,
     "metadata": {},
     "output_type": "execute_result"
    }
   ],
   "source": []
  },
  {
   "cell_type": "code",
   "execution_count": 26,
   "metadata": {},
   "outputs": [],
   "source": []
  },
  {
   "cell_type": "code",
   "execution_count": 30,
   "metadata": {},
   "outputs": [
    {
     "data": {
      "text/plain": [
       "'output\\\\output\\\\Qual É a Boa.mp4'"
      ]
     },
     "execution_count": 30,
     "metadata": {},
     "output_type": "execute_result"
    }
   ],
   "source": [
    "audio_filename"
   ]
  },
  {
   "cell_type": "code",
   "execution_count": 32,
   "metadata": {},
   "outputs": [
    {
     "name": "stderr",
     "output_type": "stream",
     "text": [
      "                                                                    \n",
      "chunk:   1%|          | 22/3175 [01:30<3:35:34,  4.10s/it, now=None]"
     ]
    },
    {
     "name": "stdout",
     "output_type": "stream",
     "text": [
      "MoviePy - Writing audio in output\\Qual_E_a_Boa.mp3\n"
     ]
    },
    {
     "name": "stderr",
     "output_type": "stream",
     "text": [
      "\n",
      "\u001b[A\n",
      "\u001b[A\n",
      "\u001b[A\n",
      "\u001b[A\n",
      "\u001b[A\n",
      "\u001b[A\n",
      "\u001b[A\n",
      "\u001b[A\n",
      "\u001b[A\n",
      "\u001b[A\n",
      "\u001b[A\n",
      "\u001b[A\n",
      "\u001b[A\n",
      "\u001b[A\n",
      "\u001b[A\n",
      "\u001b[A\n",
      "\u001b[A\n",
      "\u001b[A\n",
      "\u001b[A\n",
      "\u001b[A\n",
      "\u001b[A\n",
      "\u001b[A\n",
      "\u001b[A\n",
      "\u001b[A\n",
      "\u001b[A\n",
      "\u001b[A\n",
      "\u001b[A\n",
      "\u001b[A\n",
      "                                                                    \n",
      "chunk:   1%|          | 22/3175 [01:33<3:42:33,  4.24s/it, now=None]"
     ]
    },
    {
     "name": "stdout",
     "output_type": "stream",
     "text": [
      "MoviePy - Done.\n"
     ]
    }
   ],
   "source": [
    "\n",
    "# Converter o vídeo em \n",
    "video_clip = VideoFileClip(caminho_novo)\n",
    "audio_clip = video_clip.audio\n",
    "audio_filename = os.path.join(output_dir, audio_filename)\n",
    "audio_clip.write_audiofile(audio_filename)\n",
    "\n",
    "\n",
    "# Limpar arquivos temporários\n",
    "video_clip.close()\n",
    "audio_clip.close()\n",
    "os.remove(video_filename)\n",
    "\n",
    "print(f'O vídeo foi baixado e convertido em MP3: {audio_filename}')\n"
   ]
  }
 ],
 "metadata": {
  "kernelspec": {
   "display_name": "base",
   "language": "python",
   "name": "python3"
  },
  "language_info": {
   "codemirror_mode": {
    "name": "ipython",
    "version": 3
   },
   "file_extension": ".py",
   "mimetype": "text/x-python",
   "name": "python",
   "nbconvert_exporter": "python",
   "pygments_lexer": "ipython3",
   "version": "3.11.6"
  },
  "orig_nbformat": 4
 },
 "nbformat": 4,
 "nbformat_minor": 2
}
