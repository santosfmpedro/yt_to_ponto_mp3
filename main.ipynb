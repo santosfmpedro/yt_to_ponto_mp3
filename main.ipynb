{
 "cells": [
  {
   "cell_type": "code",
   "execution_count": null,
   "metadata": {},
   "outputs": [
    {
     "data": {
      "text/plain": [
       "CompletedProcess(args=['python', 'modules/find_urls.py', '../guide_playlist.csv'], returncode=1)"
      ]
     },
     "execution_count": 21,
     "metadata": {},
     "output_type": "execute_result"
    }
   ],
   "source": [
    "import subprocess\n",
    "\n",
    "# Especifique o caminho para o arquivo .py \n",
    "script_path = \"modules/find_urls.py\"\n",
    "\n",
    "# Especifique o URL da playlist como um argumento\n",
    "guide_playlist_path = 'guide_playlist.csv'\n",
    "\n",
    "# Execute o script .py com o URL da playlist como argumento\n",
    "subprocess.run([\"python\", script_path, guide_playlist_path])"
   ]
  },
  {
   "cell_type": "code",
   "execution_count": 1,
   "metadata": {},
   "outputs": [],
   "source": [
    "import pandas as  pd \n",
    "import os\n",
    "from pytube import YouTube\n",
    "from moviepy.editor import VideoFileClip\n",
    "# Importar o módulo unicodedata para converter caracteres unicode\n",
    "import unicodedata\n",
    "# Importar o módulo re para usar expressões regulares\n",
    "import re\n",
    "from modules import help_functions as hp\n"
   ]
  },
  {
   "cell_type": "code",
   "execution_count": 10,
   "metadata": {},
   "outputs": [
    {
     "name": "stdout",
     "output_type": "stream",
     "text": [
      "Qual É a Boa.mp4\n",
      "output/temp\n",
      "Qual É a Boa.mp4\n",
      "MoviePy - Writing audio in output\\Qual_E_a_Boa.mp3\n"
     ]
    },
    {
     "name": "stderr",
     "output_type": "stream",
     "text": [
      "                                                                      \r"
     ]
    },
    {
     "name": "stdout",
     "output_type": "stream",
     "text": [
      "MoviePy - Done.\n",
      "O vídeo foi baixado e convertido em MP3: output\\Qual_E_a_Boa.mp3\n",
      "Qual É a Boa.mp4\n",
      "output/temp\n",
      "Qual É a Boa.mp4\n",
      "MoviePy - Writing audio in output\\Qual_E_a_Boa.mp3\n"
     ]
    },
    {
     "name": "stderr",
     "output_type": "stream",
     "text": [
      "                                                                      \r"
     ]
    },
    {
     "name": "stdout",
     "output_type": "stream",
     "text": [
      "MoviePy - Done.\n",
      "O vídeo foi baixado e convertido em MP3: output\\Qual_E_a_Boa.mp3\n",
      "Set Dj Win 02.mp4\n",
      "output/temp\n",
      "Set Dj Win 02.mp4\n",
      "MoviePy - Writing audio in output\\Set_Dj_Win_02.mp3\n"
     ]
    },
    {
     "name": "stderr",
     "output_type": "stream",
     "text": [
      "                                                                      \r"
     ]
    },
    {
     "name": "stdout",
     "output_type": "stream",
     "text": [
      "MoviePy - Done.\n",
      "O vídeo foi baixado e convertido em MP3: output\\Set_Dj_Win_02.mp3\n",
      "Set Dj Win 02.mp4\n",
      "output/temp\n",
      "Set Dj Win 02.mp4\n",
      "MoviePy - Writing audio in output\\Set_Dj_Win_02.mp3\n"
     ]
    },
    {
     "name": "stderr",
     "output_type": "stream",
     "text": [
      "                                                                      \r"
     ]
    },
    {
     "name": "stdout",
     "output_type": "stream",
     "text": [
      "MoviePy - Done.\n",
      "O vídeo foi baixado e convertido em MP3: output\\Set_Dj_Win_02.mp3\n",
      "Modo Tralha.mp4\n",
      "output/temp\n",
      "Modo Tralha.mp4\n",
      "MoviePy - Writing audio in output\\Modo_Tralha.mp3\n"
     ]
    },
    {
     "name": "stderr",
     "output_type": "stream",
     "text": [
      "                                                                      \r"
     ]
    },
    {
     "name": "stdout",
     "output_type": "stream",
     "text": [
      "MoviePy - Done.\n",
      "O vídeo foi baixado e convertido em MP3: output\\Modo_Tralha.mp3\n",
      "Modo Tralha.mp4\n",
      "output/temp\n",
      "Modo Tralha.mp4\n",
      "MoviePy - Writing audio in output\\Modo_Tralha.mp3\n"
     ]
    },
    {
     "name": "stderr",
     "output_type": "stream",
     "text": [
      "                                                                      \r"
     ]
    },
    {
     "name": "stdout",
     "output_type": "stream",
     "text": [
      "MoviePy - Done.\n",
      "O vídeo foi baixado e convertido em MP3: output\\Modo_Tralha.mp3\n",
      "ESSAS HORAS DA NOITE TU VAI TOMAR SIM.mp4\n",
      "output/temp\n",
      "ESSAS HORAS DA NOITE TU VAI TOMAR SIM.mp4\n",
      "MoviePy - Writing audio in output\\ESSAS_HORAS_DA_NOITE_TU_VAI_TOMAR_SIM.mp3\n"
     ]
    },
    {
     "name": "stderr",
     "output_type": "stream",
     "text": [
      "                                                                      \r"
     ]
    },
    {
     "name": "stdout",
     "output_type": "stream",
     "text": [
      "MoviePy - Done.\n",
      "O vídeo foi baixado e convertido em MP3: output\\ESSAS_HORAS_DA_NOITE_TU_VAI_TOMAR_SIM.mp3\n",
      "ESSAS HORAS DA NOITE TU VAI TOMAR SIM.mp4\n",
      "output/temp\n",
      "ESSAS HORAS DA NOITE TU VAI TOMAR SIM.mp4\n",
      "MoviePy - Writing audio in output\\ESSAS_HORAS_DA_NOITE_TU_VAI_TOMAR_SIM.mp3\n"
     ]
    },
    {
     "name": "stderr",
     "output_type": "stream",
     "text": [
      "                                                                      \r"
     ]
    },
    {
     "name": "stdout",
     "output_type": "stream",
     "text": [
      "MoviePy - Done.\n",
      "O vídeo foi baixado e convertido em MP3: output\\ESSAS_HORAS_DA_NOITE_TU_VAI_TOMAR_SIM.mp3\n",
      "Boqueteriana.mp4\n",
      "output/temp\n",
      "Boqueteriana.mp4\n",
      "MoviePy - Writing audio in output\\Boqueteriana.mp3\n"
     ]
    },
    {
     "name": "stderr",
     "output_type": "stream",
     "text": [
      "                                                                      \r"
     ]
    },
    {
     "name": "stdout",
     "output_type": "stream",
     "text": [
      "MoviePy - Done.\n",
      "O vídeo foi baixado e convertido em MP3: output\\Boqueteriana.mp3\n",
      "Boqueteriana.mp4\n",
      "output/temp\n",
      "Boqueteriana.mp4\n",
      "MoviePy - Writing audio in output\\Boqueteriana.mp3\n"
     ]
    },
    {
     "name": "stderr",
     "output_type": "stream",
     "text": [
      "                                                                      \r"
     ]
    },
    {
     "name": "stdout",
     "output_type": "stream",
     "text": [
      "MoviePy - Done.\n",
      "O vídeo foi baixado e convertido em MP3: output\\Boqueteriana.mp3\n",
      "Eu To Proibido.mp4\n",
      "output/temp\n",
      "Eu To Proibido.mp4\n",
      "MoviePy - Writing audio in output\\Eu_To_Proibido.mp3\n"
     ]
    },
    {
     "name": "stderr",
     "output_type": "stream",
     "text": [
      "                                                                      \r"
     ]
    },
    {
     "name": "stdout",
     "output_type": "stream",
     "text": [
      "MoviePy - Done.\n",
      "O vídeo foi baixado e convertido em MP3: output\\Eu_To_Proibido.mp3\n",
      "Eu To Proibido.mp4\n",
      "output/temp\n",
      "Eu To Proibido.mp4\n",
      "MoviePy - Writing audio in output\\Eu_To_Proibido.mp3\n"
     ]
    },
    {
     "name": "stderr",
     "output_type": "stream",
     "text": [
      "                                                                      \r"
     ]
    },
    {
     "name": "stdout",
     "output_type": "stream",
     "text": [
      "MoviePy - Done.\n",
      "O vídeo foi baixado e convertido em MP3: output\\Eu_To_Proibido.mp3\n",
      "Magrinha Bandida.mp4\n",
      "output/temp\n",
      "Magrinha Bandida.mp4\n",
      "MoviePy - Writing audio in output\\Magrinha_Bandida.mp3\n"
     ]
    },
    {
     "name": "stderr",
     "output_type": "stream",
     "text": [
      "                                                                      \r"
     ]
    },
    {
     "name": "stdout",
     "output_type": "stream",
     "text": [
      "MoviePy - Done.\n",
      "O vídeo foi baixado e convertido em MP3: output\\Magrinha_Bandida.mp3\n",
      "Magrinha Bandida.mp4\n",
      "output/temp\n",
      "Magrinha Bandida.mp4\n",
      "MoviePy - Writing audio in output\\Magrinha_Bandida.mp3\n"
     ]
    },
    {
     "name": "stderr",
     "output_type": "stream",
     "text": [
      "                                                                      \r"
     ]
    },
    {
     "name": "stdout",
     "output_type": "stream",
     "text": [
      "MoviePy - Done.\n",
      "O vídeo foi baixado e convertido em MP3: output\\Magrinha_Bandida.mp3\n",
      "Mtg - Vai na rola vem na rola.mp4\n",
      "output/temp\n",
      "Mtg - Vai na rola vem na rola.mp4\n",
      "MoviePy - Writing audio in output\\Mtg__Vai_na_rola_vem_na_rola.mp3\n"
     ]
    },
    {
     "name": "stderr",
     "output_type": "stream",
     "text": [
      "                                                                      \r"
     ]
    },
    {
     "name": "stdout",
     "output_type": "stream",
     "text": [
      "MoviePy - Done.\n",
      "O vídeo foi baixado e convertido em MP3: output\\Mtg__Vai_na_rola_vem_na_rola.mp3\n",
      "Mtg - Vai na rola vem na rola.mp4\n",
      "output/temp\n",
      "Mtg - Vai na rola vem na rola.mp4\n",
      "MoviePy - Writing audio in output\\Mtg__Vai_na_rola_vem_na_rola.mp3\n"
     ]
    },
    {
     "name": "stderr",
     "output_type": "stream",
     "text": [
      "                                                                      \r"
     ]
    },
    {
     "name": "stdout",
     "output_type": "stream",
     "text": [
      "MoviePy - Done.\n",
      "O vídeo foi baixado e convertido em MP3: output\\Mtg__Vai_na_rola_vem_na_rola.mp3\n",
      "PRAS FAVELAS DE BH.mp4\n",
      "output/temp\n",
      "PRAS FAVELAS DE BH.mp4\n",
      "MoviePy - Writing audio in output\\PRAS_FAVELAS_DE_BH.mp3\n"
     ]
    },
    {
     "name": "stderr",
     "output_type": "stream",
     "text": [
      "                                                                      \r"
     ]
    },
    {
     "name": "stdout",
     "output_type": "stream",
     "text": [
      "MoviePy - Done.\n",
      "O vídeo foi baixado e convertido em MP3: output\\PRAS_FAVELAS_DE_BH.mp3\n",
      "PRAS FAVELAS DE BH.mp4\n",
      "output/temp\n",
      "PRAS FAVELAS DE BH.mp4\n",
      "MoviePy - Writing audio in output\\PRAS_FAVELAS_DE_BH.mp3\n"
     ]
    },
    {
     "name": "stderr",
     "output_type": "stream",
     "text": [
      "                                                                      \r"
     ]
    },
    {
     "name": "stdout",
     "output_type": "stream",
     "text": [
      "MoviePy - Done.\n",
      "O vídeo foi baixado e convertido em MP3: output\\PRAS_FAVELAS_DE_BH.mp3\n",
      "Onda Subaquática 2.mp4\n",
      "output/temp\n",
      "Onda Subaquática 2.mp4\n",
      "MoviePy - Writing audio in output\\Onda_Subaquatica_2.mp3\n"
     ]
    },
    {
     "name": "stderr",
     "output_type": "stream",
     "text": [
      "                                                                      \r"
     ]
    },
    {
     "name": "stdout",
     "output_type": "stream",
     "text": [
      "MoviePy - Done.\n",
      "O vídeo foi baixado e convertido em MP3: output\\Onda_Subaquatica_2.mp3\n",
      "Onda Subaquática 2.mp4\n",
      "output/temp\n",
      "Onda Subaquática 2.mp4\n",
      "MoviePy - Writing audio in output\\Onda_Subaquatica_2.mp3\n"
     ]
    },
    {
     "name": "stderr",
     "output_type": "stream",
     "text": [
      "                                                                      \r"
     ]
    },
    {
     "name": "stdout",
     "output_type": "stream",
     "text": [
      "MoviePy - Done.\n",
      "O vídeo foi baixado e convertido em MP3: output\\Onda_Subaquatica_2.mp3\n",
      "Pique Mineiro.mp4\n",
      "output/temp\n",
      "Pique Mineiro.mp4\n",
      "MoviePy - Writing audio in output\\Pique_Mineiro.mp3\n"
     ]
    },
    {
     "name": "stderr",
     "output_type": "stream",
     "text": [
      "                                                                      \r"
     ]
    },
    {
     "name": "stdout",
     "output_type": "stream",
     "text": [
      "MoviePy - Done.\n",
      "O vídeo foi baixado e convertido em MP3: output\\Pique_Mineiro.mp3\n",
      "Pique Mineiro.mp4\n",
      "output/temp\n",
      "Pique Mineiro.mp4\n",
      "MoviePy - Writing audio in output\\Pique_Mineiro.mp3\n"
     ]
    },
    {
     "name": "stderr",
     "output_type": "stream",
     "text": [
      "                                                                      \r"
     ]
    },
    {
     "name": "stdout",
     "output_type": "stream",
     "text": [
      "MoviePy - Done.\n",
      "O vídeo foi baixado e convertido em MP3: output\\Pique_Mineiro.mp3\n",
      "União dos Sem Amor 001.mp4\n",
      "output/temp\n",
      "União dos Sem Amor 001.mp4\n",
      "MoviePy - Writing audio in output\\Uniao_dos_Sem_Amor_001.mp3\n"
     ]
    },
    {
     "name": "stderr",
     "output_type": "stream",
     "text": [
      "                                                                      \r"
     ]
    },
    {
     "name": "stdout",
     "output_type": "stream",
     "text": [
      "MoviePy - Done.\n",
      "O vídeo foi baixado e convertido em MP3: output\\Uniao_dos_Sem_Amor_001.mp3\n",
      "União dos Sem Amor 001.mp4\n",
      "output/temp\n",
      "União dos Sem Amor 001.mp4\n",
      "MoviePy - Writing audio in output\\Uniao_dos_Sem_Amor_001.mp3\n"
     ]
    },
    {
     "name": "stderr",
     "output_type": "stream",
     "text": [
      "                                                                      \r"
     ]
    },
    {
     "name": "stdout",
     "output_type": "stream",
     "text": [
      "MoviePy - Done.\n",
      "O vídeo foi baixado e convertido em MP3: output\\Uniao_dos_Sem_Amor_001.mp3\n",
      "Pede pra Botar Que Eu Boto.mp4\n",
      "output/temp\n",
      "Pede pra Botar Que Eu Boto.mp4\n",
      "MoviePy - Writing audio in output\\Pede_pra_Botar_Que_Eu_Boto.mp3\n"
     ]
    },
    {
     "name": "stderr",
     "output_type": "stream",
     "text": [
      "                                                                      \r"
     ]
    },
    {
     "name": "stdout",
     "output_type": "stream",
     "text": [
      "MoviePy - Done.\n",
      "O vídeo foi baixado e convertido em MP3: output\\Pede_pra_Botar_Que_Eu_Boto.mp3\n",
      "Pede pra Botar Que Eu Boto.mp4\n",
      "output/temp\n",
      "Pede pra Botar Que Eu Boto.mp4\n",
      "MoviePy - Writing audio in output\\Pede_pra_Botar_Que_Eu_Boto.mp3\n"
     ]
    },
    {
     "name": "stderr",
     "output_type": "stream",
     "text": [
      "                                                                      \r"
     ]
    },
    {
     "name": "stdout",
     "output_type": "stream",
     "text": [
      "MoviePy - Done.\n",
      "O vídeo foi baixado e convertido em MP3: output\\Pede_pra_Botar_Que_Eu_Boto.mp3\n",
      "MC SPLASH - ELA VEM LA BARRAPRA SENTA PROS CRIA (ProdKissuk) (Arrochadeira) MÚSICA NOVA 2023.mp4\n",
      "output/temp\n",
      "MC SPLASH - ELA VEM LA BARRAPRA SENTA PROS CRIA (ProdKissuk) (Arrochadeira) MÚSICA NOVA 2023.mp4\n",
      "MoviePy - Writing audio in output\\MC_SPLASH__ELA_VEM_LA_BARRAPRA_SENTA_PROS_CRIA_ProdKissuk_Arrochadeira_MUSICA_NOVA_2023.mp3\n"
     ]
    },
    {
     "name": "stderr",
     "output_type": "stream",
     "text": [
      "                                                                      \r"
     ]
    },
    {
     "name": "stdout",
     "output_type": "stream",
     "text": [
      "MoviePy - Done.\n",
      "O vídeo foi baixado e convertido em MP3: output\\MC_SPLASH__ELA_VEM_LA_BARRAPRA_SENTA_PROS_CRIA_ProdKissuk_Arrochadeira_MUSICA_NOVA_2023.mp3\n",
      "MC SPLASH - ELA VEM LA BARRAPRA SENTA PROS CRIA (ProdKissuk) (Arrochadeira) MÚSICA NOVA 2023.mp4\n",
      "output/temp\n",
      "MC SPLASH - ELA VEM LA BARRAPRA SENTA PROS CRIA (ProdKissuk) (Arrochadeira) MÚSICA NOVA 2023.mp4\n",
      "MoviePy - Writing audio in output\\MC_SPLASH__ELA_VEM_LA_BARRAPRA_SENTA_PROS_CRIA_ProdKissuk_Arrochadeira_MUSICA_NOVA_2023.mp3\n"
     ]
    },
    {
     "name": "stderr",
     "output_type": "stream",
     "text": [
      "                                                                      "
     ]
    },
    {
     "name": "stdout",
     "output_type": "stream",
     "text": [
      "MoviePy - Done.\n",
      "O vídeo foi baixado e convertido em MP3: output\\MC_SPLASH__ELA_VEM_LA_BARRAPRA_SENTA_PROS_CRIA_ProdKissuk_Arrochadeira_MUSICA_NOVA_2023.mp3\n"
     ]
    },
    {
     "name": "stderr",
     "output_type": "stream",
     "text": [
      "\r"
     ]
    }
   ],
   "source": [
    "playlist = pd.read_csv('funk_mg.csv')\n",
    "# URL do vídeo do YouTube\n",
    "for i in range(len(playlist)):\n",
    "    video_url = f\"https://www.youtube.com{playlist['link'][i]}\"\n",
    "\n",
    "    # Diretório de saída para salvar o vídeo e o arquivo MP3\n",
    "    output_dir = 'output'\n",
    "    temp_dir = f'{output_dir}/temp'\n",
    "\n",
    "    # Baixar o vídeo\n",
    "    yt = YouTube(video_url)\n",
    "    video_stream = yt.streams.filter(file_extension='mp4').first()\n",
    "    video_stream.download(output_path=temp_dir)\n",
    "\n",
    "    arquivo_temp = hp.listar_arquivos_em_pasta(temp_dir)\n",
    "\n",
    "    video_filename = f'{temp_dir}/{arquivo_temp[0]}'\n",
    "\n",
    "    audio_filename = f\"{hp.renomear_string(arquivo_temp[0].split('.')[0])}.mp3\"\n",
    "\n",
    "    print(arquivo_temp[0].split('/')[-1])\n",
    "    print(temp_dir)\n",
    "    #hp.renomear_arquivo(f'{temp_dir}', arquivo_temp[0].split('/')[-1])\n",
    "\n",
    "    caminho = temp_dir\n",
    "    nome = arquivo_temp[0].split('/')[-1]\n",
    "    nome_antigo = os.path.basename(caminho)\n",
    "    # Obter a extensão do arquivo\n",
    "    print(nome)\n",
    "    nome_raw = nome.split('.')[0]\n",
    "    extensao = nome.split('.')[1]\n",
    "\n",
    "    # Normalizar o nome novo para a forma NFKD, que separa os caracteres base dos diacríticos\n",
    "    nome = unicodedata.normalize('NFKD', nome_raw)\n",
    "    # Remover os diacríticos usando uma compreensão de lista\n",
    "    nome = ''.join([c for c in nome if not unicodedata.combining(c)])\n",
    "    # Substituir os espaços por underline usando o método replace\n",
    "    nome = nome.replace(' ', '_')\n",
    "    # Remover os caracteres especiais usando uma expressão regular\n",
    "    nome = re.sub('[^A-Za-z0-9_]', '', nome)\n",
    "    # Juntar o nome novo com a extensão do arquivo\n",
    "    nome_novo = nome + '.' + extensao\n",
    "    # Obter o caminho novo do arquivo\n",
    "    caminho_novo = f\"{caminho}/{nome_novo}\"\n",
    "\n",
    "\n",
    "    # Renomear o arquivo usando o método rename\n",
    "    os.rename(video_filename, f'{os.getcwd()}/{caminho_novo}')\n",
    "\n",
    "    # Converter o vídeo em \n",
    "    video_clip = VideoFileClip(caminho_novo)\n",
    "    audio_clip = video_clip.audio\n",
    "    audio_filename = os.path.join(output_dir, audio_filename)\n",
    "    audio_clip.write_audiofile(audio_filename)\n",
    "\n",
    "\n",
    "    # Limpar arquivos temporários\n",
    "    video_clip.close()\n",
    "    audio_clip.close()\n",
    "    os.remove(caminho_novo)\n",
    "\n",
    "    print(f'O vídeo foi baixado e convertido em MP3: {audio_filename}')\n"
   ]
  }
 ],
 "metadata": {
  "kernelspec": {
   "display_name": "base",
   "language": "python",
   "name": "python3"
  },
  "language_info": {
   "codemirror_mode": {
    "name": "ipython",
    "version": 3
   },
   "file_extension": ".py",
   "mimetype": "text/x-python",
   "name": "python",
   "nbconvert_exporter": "python",
   "pygments_lexer": "ipython3",
   "version": "3.11.6"
  },
  "orig_nbformat": 4
 },
 "nbformat": 4,
 "nbformat_minor": 2
}
